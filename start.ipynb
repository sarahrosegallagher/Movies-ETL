{
 "cells": [
  {
   "cell_type": "markdown",
   "metadata": {},
   "source": [
    "ETL:\n",
    "\n",
    "Extract "
   ]
  },
  {
   "cell_type": "code",
   "execution_count": 1,
   "metadata": {},
   "outputs": [],
   "source": [
    "import json\n",
    "\n",
    "import pandas as pd\n",
    "\n",
    "import numpy as np \n",
    "\n",
    "import re "
   ]
  },
  {
   "cell_type": "code",
   "execution_count": 2,
   "metadata": {},
   "outputs": [],
   "source": [
    "#load json file as list of dicts to clean (not df bcs not flat, aka messy)\n",
    "# with statement to handle file resource w mode r for read; read into variable file; \n",
    "# use json.load() to save data to new var; wiki movies raw is list of dicts\n",
    "\n",
    "with open(\"..\\Resources\\wikipedia-movies.json\", mode = \"r\") as file: \n",
    "    wiki_movies_raw = json.load(file)"
   ]
  },
  {
   "cell_type": "code",
   "execution_count": 3,
   "metadata": {},
   "outputs": [
    {
     "data": {
      "text/plain": [
       "7311"
      ]
     },
     "execution_count": 3,
     "metadata": {},
     "output_type": "execute_result"
    }
   ],
   "source": [
    "#check num of dicts in list \n",
    "len(wiki_movies_raw)"
   ]
  },
  {
   "cell_type": "code",
   "execution_count": 4,
   "metadata": {},
   "outputs": [
    {
     "data": {
      "text/plain": [
       "[{'url': 'https://en.wikipedia.org/wiki/Human_Nature_(2001_film)',\n",
       "  'year': 2001,\n",
       "  'imdb_link': 'https://www.imdb.com/title/tt0219822/',\n",
       "  'title': 'Human Nature',\n",
       "  'Directed by': 'Michel Gondry',\n",
       "  'Produced by': ['Anthony Bregman',\n",
       "   'Ted Hope',\n",
       "   'Spike Jonze',\n",
       "   'Charlie Kaufman'],\n",
       "  'Written by': 'Charlie Kaufman',\n",
       "  'Starring': ['Tim Robbins',\n",
       "   'Patricia Arquette',\n",
       "   'Rhys Ifans',\n",
       "   'Miranda Otto',\n",
       "   'Rosie Perez'],\n",
       "  'Music by': 'Graeme Revell',\n",
       "  'Cinematography': 'Tim Maurice-Jones',\n",
       "  'Edited by': 'Russell Icke',\n",
       "  'Productioncompany ': ['StudioCanal', 'Good Machine'],\n",
       "  'Distributed by': ['Fine Line Features',\n",
       "   '(United States)',\n",
       "   'BAC Films',\n",
       "   '(France)'],\n",
       "  'Release date': ['May 18, 2001',\n",
       "   '(',\n",
       "   '2001-05-18',\n",
       "   ')',\n",
       "   '(',\n",
       "   'Cannes',\n",
       "   ')',\n",
       "   'September 12, 2001',\n",
       "   '(',\n",
       "   '2001-09-12',\n",
       "   ')',\n",
       "   '(France)',\n",
       "   'April 12, 2002',\n",
       "   '(',\n",
       "   '2002-04-12',\n",
       "   ')',\n",
       "   '(United States)'],\n",
       "  'Running time': '96 minutes',\n",
       "  'Country': ['United States', 'France', '[1]'],\n",
       "  'Language': 'English',\n",
       "  'Budget': '$8.6 million',\n",
       "  'Box office': '$1.6 million'},\n",
       " {'url': 'https://en.wikipedia.org/wiki/I_Am_Sam',\n",
       "  'year': 2001,\n",
       "  'imdb_link': 'https://www.imdb.com/title/tt0277027/',\n",
       "  'title': 'I Am Sam',\n",
       "  'Directed by': 'Jessie Nelson',\n",
       "  'Produced by': ['Jessie Nelson',\n",
       "   'Richard Solomon',\n",
       "   'Edward Zwick',\n",
       "   'Marshall Herskovitz'],\n",
       "  'Written by': ['Kristine Johnson', 'Jessie Nelson'],\n",
       "  'Starring': ['Sean Penn',\n",
       "   'Michelle Pfeiffer',\n",
       "   'Dianne Wiest',\n",
       "   'Dakota Fanning',\n",
       "   'Richard Schiff',\n",
       "   'Loretta Devine',\n",
       "   'Laura Dern'],\n",
       "  'Music by': 'John Powell',\n",
       "  'Cinematography': 'Elliot Davis',\n",
       "  'Edited by': 'Richard Chew',\n",
       "  'Productioncompany ': 'The Bedford Falls Company',\n",
       "  'Distributed by': 'New Line Cinema',\n",
       "  'Release date': ['December 28, 2001', '(', '2001-12-28', ')'],\n",
       "  'Running time': '134 minutes',\n",
       "  'Country': 'United States',\n",
       "  'Language': 'English',\n",
       "  'Budget': '$22 million',\n",
       "  'Box office': '$97,818,139'},\n",
       " {'url': 'https://en.wikipedia.org/wiki/In_the_Bedroom',\n",
       "  'year': 2001,\n",
       "  'imdb_link': 'https://www.imdb.com/title/tt0247425/',\n",
       "  'title': 'In the Bedroom',\n",
       "  'Directed by': 'Todd Field',\n",
       "  'Produced by': ['Todd Field', 'Ross Katz', 'Graham Leader'],\n",
       "  'Screenplay by': ['Todd Field', 'Robert Festinger'],\n",
       "  'Based on': ['\"', 'Killings', '\"', 'by', 'Andre Dubus'],\n",
       "  'Starring': ['Sissy Spacek', 'Tom Wilkinson', 'Nick Stahl', 'Marisa Tomei'],\n",
       "  'Music by': 'Thomas Newman',\n",
       "  'Cinematography': 'Antonio Calvache',\n",
       "  'Edited by': 'Frank Reynolds',\n",
       "  'Productioncompany ': ['Good Machine',\n",
       "   'Eastern Standard Film Company',\n",
       "   'GreeneStreet Films'],\n",
       "  'Distributed by': 'Miramax Films',\n",
       "  'Release date': ['November 23, 2001', '(', '2001-11-23', ')'],\n",
       "  'Running time': '131 minutes',\n",
       "  'Country': 'United States',\n",
       "  'Language': 'English',\n",
       "  'Budget': '$1.7 million',\n",
       "  'Box office': '$43.4 million'},\n",
       " {'url': 'https://en.wikipedia.org/wiki/Jay_and_Silent_Bob_Strike_Back',\n",
       "  'year': 2001,\n",
       "  'imdb_link': 'https://www.imdb.com/title/tt0261392/',\n",
       "  'title': 'Jay and Silent Bob Strike Back',\n",
       "  'Directed by': 'Kevin Smith',\n",
       "  'Produced by': 'Scott Mosier',\n",
       "  'Written by': 'Kevin Smith',\n",
       "  'Starring': ['Jason Mewes',\n",
       "   'Kevin Smith',\n",
       "   'Ben Affleck',\n",
       "   'Eliza Dushku',\n",
       "   'Shannon Elizabeth',\n",
       "   'Will Ferrell',\n",
       "   'Ali Larter',\n",
       "   'Jason Lee',\n",
       "   'Chris Rock',\n",
       "   'Jennifer Schwalbach Smith'],\n",
       "  'Music by': 'James L. Venable',\n",
       "  'Cinematography': 'Jamie Anderson',\n",
       "  'Edited by': ['Scott Mosier', 'Kevin Smith'],\n",
       "  'Productioncompanies ': ['Dimension Films', 'View Askew Productions'],\n",
       "  'Distributed by': 'Miramax Films',\n",
       "  'Release date': ['August 24, 2001', '(', '2001-08-24', ')'],\n",
       "  'Running time': '104 minutes',\n",
       "  'Country': 'United States',\n",
       "  'Language': 'English',\n",
       "  'Budget': '$22 million',\n",
       "  'Box office': '$33.8 million'},\n",
       " {'url': 'https://en.wikipedia.org/wiki/Jeepers_Creepers_(2001_film)',\n",
       "  'year': 2001,\n",
       "  'imdb_link': 'https://www.imdb.com/title/tt0263488/',\n",
       "  'title': 'Jeepers Creepers',\n",
       "  'Directed by': 'Victor Salva',\n",
       "  'Produced by': ['Tom Luse', 'Barry Opper'],\n",
       "  'Written by': 'Victor Salva',\n",
       "  'Starring': ['Gina Philips',\n",
       "   'Justin Long',\n",
       "   'Jonathan Breck',\n",
       "   'Eileen Brennan'],\n",
       "  'Music by': 'Bennett Salvay',\n",
       "  'Cinematography': 'Don E. FauntLeRoy',\n",
       "  'Edited by': 'Ed Marx',\n",
       "  'Productioncompany ': 'American Zoetrope',\n",
       "  'Distributed by': 'United Artists',\n",
       "  'Release date': ['August 31, 2001', '(', '2001-08-31', ')'],\n",
       "  'Running time': '91 minutes',\n",
       "  'Country': ['United States', '[1]', 'Germany', '[1]'],\n",
       "  'Language': 'English',\n",
       "  'Budget': '$10 million',\n",
       "  'Box office': '$59.2 million'}]"
      ]
     },
     "execution_count": 4,
     "metadata": {},
     "output_type": "execute_result"
    }
   ],
   "source": [
    "#check sample w index slices (use case for negative index slices)\n",
    "\n",
    "#beginning \n",
    "wiki_movies_raw[:5]\n",
    "\n",
    "#end\n",
    "wiki_movies_raw[-5:]\n",
    "\n",
    "#mid\n",
    "wiki_movies_raw[3000:3005]"
   ]
  },
  {
   "cell_type": "code",
   "execution_count": 5,
   "metadata": {},
   "outputs": [],
   "source": [
    "#load kaggle meta and rating data; confirmed flat so load directly into df \n",
    "\n",
    "kaggle_metadata = pd.read_csv(\"..\\Resources\\movies_metadata.csv\", low_memory=False)\n",
    "\n",
    "ratings = pd.read_csv(\"../Resources/ratings.csv\")"
   ]
  },
  {
   "cell_type": "code",
   "execution_count": 6,
   "metadata": {},
   "outputs": [
    {
     "data": {
      "text/html": [
       "<div>\n",
       "<style scoped>\n",
       "    .dataframe tbody tr th:only-of-type {\n",
       "        vertical-align: middle;\n",
       "    }\n",
       "\n",
       "    .dataframe tbody tr th {\n",
       "        vertical-align: top;\n",
       "    }\n",
       "\n",
       "    .dataframe thead th {\n",
       "        text-align: right;\n",
       "    }\n",
       "</style>\n",
       "<table border=\"1\" class=\"dataframe\">\n",
       "  <thead>\n",
       "    <tr style=\"text-align: right;\">\n",
       "      <th></th>\n",
       "      <th>userId</th>\n",
       "      <th>movieId</th>\n",
       "      <th>rating</th>\n",
       "      <th>timestamp</th>\n",
       "    </tr>\n",
       "  </thead>\n",
       "  <tbody>\n",
       "    <tr>\n",
       "      <th>8250088</th>\n",
       "      <td>85068</td>\n",
       "      <td>593</td>\n",
       "      <td>3.0</td>\n",
       "      <td>1276545955</td>\n",
       "    </tr>\n",
       "    <tr>\n",
       "      <th>24160880</th>\n",
       "      <td>250998</td>\n",
       "      <td>5080</td>\n",
       "      <td>3.5</td>\n",
       "      <td>1214009463</td>\n",
       "    </tr>\n",
       "    <tr>\n",
       "      <th>19436872</th>\n",
       "      <td>201829</td>\n",
       "      <td>3753</td>\n",
       "      <td>4.5</td>\n",
       "      <td>1068096824</td>\n",
       "    </tr>\n",
       "  </tbody>\n",
       "</table>\n",
       "</div>"
      ],
      "text/plain": [
       "          userId  movieId  rating   timestamp\n",
       "8250088    85068      593     3.0  1276545955\n",
       "24160880  250998     5080     3.5  1214009463\n",
       "19436872  201829     3753     4.5  1068096824"
      ]
     },
     "execution_count": 6,
     "metadata": {},
     "output_type": "execute_result"
    }
   ],
   "source": [
    "kaggle_metadata.sample(n=5)\n",
    "\n",
    "ratings.sample(n=3)"
   ]
  },
  {
   "cell_type": "markdown",
   "metadata": {},
   "source": [
    "Transform\n",
    "\n",
    "iterative: inspect, plan, execute "
   ]
  },
  {
   "cell_type": "code",
   "execution_count": 7,
   "metadata": {},
   "outputs": [
    {
     "data": {
      "text/html": [
       "<div>\n",
       "<style scoped>\n",
       "    .dataframe tbody tr th:only-of-type {\n",
       "        vertical-align: middle;\n",
       "    }\n",
       "\n",
       "    .dataframe tbody tr th {\n",
       "        vertical-align: top;\n",
       "    }\n",
       "\n",
       "    .dataframe thead th {\n",
       "        text-align: right;\n",
       "    }\n",
       "</style>\n",
       "<table border=\"1\" class=\"dataframe\">\n",
       "  <thead>\n",
       "    <tr style=\"text-align: right;\">\n",
       "      <th></th>\n",
       "      <th>url</th>\n",
       "      <th>year</th>\n",
       "      <th>imdb_link</th>\n",
       "      <th>title</th>\n",
       "      <th>Directed by</th>\n",
       "      <th>Produced by</th>\n",
       "      <th>Screenplay by</th>\n",
       "      <th>Story by</th>\n",
       "      <th>Based on</th>\n",
       "      <th>Starring</th>\n",
       "      <th>...</th>\n",
       "      <th>Predecessor</th>\n",
       "      <th>Founders</th>\n",
       "      <th>Area served</th>\n",
       "      <th>Products</th>\n",
       "      <th>Services</th>\n",
       "      <th>Russian</th>\n",
       "      <th>Hebrew</th>\n",
       "      <th>Revenue</th>\n",
       "      <th>Operating income</th>\n",
       "      <th>Polish</th>\n",
       "    </tr>\n",
       "  </thead>\n",
       "  <tbody>\n",
       "    <tr>\n",
       "      <th>0</th>\n",
       "      <td>https://en.wikipedia.org/wiki/The_Adventures_o...</td>\n",
       "      <td>1990.0</td>\n",
       "      <td>https://www.imdb.com/title/tt0098987/</td>\n",
       "      <td>The Adventures of Ford Fairlane</td>\n",
       "      <td>Renny Harlin</td>\n",
       "      <td>[Steve Perry, Joel Silver]</td>\n",
       "      <td>[David Arnott, James Cappe, Daniel Waters]</td>\n",
       "      <td>[David Arnott, James Cappe]</td>\n",
       "      <td>[Characters, by Rex Weiner]</td>\n",
       "      <td>[Andrew Dice Clay, Wayne Newton, Priscilla Pre...</td>\n",
       "      <td>...</td>\n",
       "      <td>NaN</td>\n",
       "      <td>NaN</td>\n",
       "      <td>NaN</td>\n",
       "      <td>NaN</td>\n",
       "      <td>NaN</td>\n",
       "      <td>NaN</td>\n",
       "      <td>NaN</td>\n",
       "      <td>NaN</td>\n",
       "      <td>NaN</td>\n",
       "      <td>NaN</td>\n",
       "    </tr>\n",
       "    <tr>\n",
       "      <th>1</th>\n",
       "      <td>https://en.wikipedia.org/wiki/After_Dark,_My_S...</td>\n",
       "      <td>1990.0</td>\n",
       "      <td>https://www.imdb.com/title/tt0098994/</td>\n",
       "      <td>After Dark, My Sweet</td>\n",
       "      <td>James Foley</td>\n",
       "      <td>[Ric Kidney, Robert Redlin]</td>\n",
       "      <td>[James Foley, Robert Redlin]</td>\n",
       "      <td>NaN</td>\n",
       "      <td>[the novel, After Dark, My Sweet, by, Jim Thom...</td>\n",
       "      <td>[Jason Patric, Rachel Ward, Bruce Dern, George...</td>\n",
       "      <td>...</td>\n",
       "      <td>NaN</td>\n",
       "      <td>NaN</td>\n",
       "      <td>NaN</td>\n",
       "      <td>NaN</td>\n",
       "      <td>NaN</td>\n",
       "      <td>NaN</td>\n",
       "      <td>NaN</td>\n",
       "      <td>NaN</td>\n",
       "      <td>NaN</td>\n",
       "      <td>NaN</td>\n",
       "    </tr>\n",
       "    <tr>\n",
       "      <th>2</th>\n",
       "      <td>https://en.wikipedia.org/wiki/Air_America_(film)</td>\n",
       "      <td>1990.0</td>\n",
       "      <td>https://www.imdb.com/title/tt0099005/</td>\n",
       "      <td>Air America</td>\n",
       "      <td>Roger Spottiswoode</td>\n",
       "      <td>Daniel Melnick</td>\n",
       "      <td>[John Eskow, Richard Rush]</td>\n",
       "      <td>NaN</td>\n",
       "      <td>[Air America, by, Christopher Robbins]</td>\n",
       "      <td>[Mel Gibson, Robert Downey Jr., Nancy Travis, ...</td>\n",
       "      <td>...</td>\n",
       "      <td>NaN</td>\n",
       "      <td>NaN</td>\n",
       "      <td>NaN</td>\n",
       "      <td>NaN</td>\n",
       "      <td>NaN</td>\n",
       "      <td>NaN</td>\n",
       "      <td>NaN</td>\n",
       "      <td>NaN</td>\n",
       "      <td>NaN</td>\n",
       "      <td>NaN</td>\n",
       "    </tr>\n",
       "    <tr>\n",
       "      <th>3</th>\n",
       "      <td>https://en.wikipedia.org/wiki/Alice_(1990_film)</td>\n",
       "      <td>1990.0</td>\n",
       "      <td>https://www.imdb.com/title/tt0099012/</td>\n",
       "      <td>Alice</td>\n",
       "      <td>Woody Allen</td>\n",
       "      <td>Robert Greenhut</td>\n",
       "      <td>NaN</td>\n",
       "      <td>NaN</td>\n",
       "      <td>NaN</td>\n",
       "      <td>[Alec Baldwin, Blythe Danner, Judy Davis, Mia ...</td>\n",
       "      <td>...</td>\n",
       "      <td>NaN</td>\n",
       "      <td>NaN</td>\n",
       "      <td>NaN</td>\n",
       "      <td>NaN</td>\n",
       "      <td>NaN</td>\n",
       "      <td>NaN</td>\n",
       "      <td>NaN</td>\n",
       "      <td>NaN</td>\n",
       "      <td>NaN</td>\n",
       "      <td>NaN</td>\n",
       "    </tr>\n",
       "    <tr>\n",
       "      <th>4</th>\n",
       "      <td>https://en.wikipedia.org/wiki/Almost_an_Angel</td>\n",
       "      <td>1990.0</td>\n",
       "      <td>https://www.imdb.com/title/tt0099018/</td>\n",
       "      <td>Almost an Angel</td>\n",
       "      <td>John Cornell</td>\n",
       "      <td>John Cornell</td>\n",
       "      <td>NaN</td>\n",
       "      <td>NaN</td>\n",
       "      <td>NaN</td>\n",
       "      <td>[Paul Hogan, Elias Koteas, Linda Kozlowski]</td>\n",
       "      <td>...</td>\n",
       "      <td>NaN</td>\n",
       "      <td>NaN</td>\n",
       "      <td>NaN</td>\n",
       "      <td>NaN</td>\n",
       "      <td>NaN</td>\n",
       "      <td>NaN</td>\n",
       "      <td>NaN</td>\n",
       "      <td>NaN</td>\n",
       "      <td>NaN</td>\n",
       "      <td>NaN</td>\n",
       "    </tr>\n",
       "  </tbody>\n",
       "</table>\n",
       "<p>5 rows × 193 columns</p>\n",
       "</div>"
      ],
      "text/plain": [
       "                                                 url    year  \\\n",
       "0  https://en.wikipedia.org/wiki/The_Adventures_o...  1990.0   \n",
       "1  https://en.wikipedia.org/wiki/After_Dark,_My_S...  1990.0   \n",
       "2   https://en.wikipedia.org/wiki/Air_America_(film)  1990.0   \n",
       "3    https://en.wikipedia.org/wiki/Alice_(1990_film)  1990.0   \n",
       "4      https://en.wikipedia.org/wiki/Almost_an_Angel  1990.0   \n",
       "\n",
       "                               imdb_link                            title  \\\n",
       "0  https://www.imdb.com/title/tt0098987/  The Adventures of Ford Fairlane   \n",
       "1  https://www.imdb.com/title/tt0098994/             After Dark, My Sweet   \n",
       "2  https://www.imdb.com/title/tt0099005/                      Air America   \n",
       "3  https://www.imdb.com/title/tt0099012/                            Alice   \n",
       "4  https://www.imdb.com/title/tt0099018/                  Almost an Angel   \n",
       "\n",
       "          Directed by                  Produced by  \\\n",
       "0        Renny Harlin   [Steve Perry, Joel Silver]   \n",
       "1         James Foley  [Ric Kidney, Robert Redlin]   \n",
       "2  Roger Spottiswoode               Daniel Melnick   \n",
       "3         Woody Allen              Robert Greenhut   \n",
       "4        John Cornell                 John Cornell   \n",
       "\n",
       "                                Screenplay by                     Story by  \\\n",
       "0  [David Arnott, James Cappe, Daniel Waters]  [David Arnott, James Cappe]   \n",
       "1                [James Foley, Robert Redlin]                          NaN   \n",
       "2                  [John Eskow, Richard Rush]                          NaN   \n",
       "3                                         NaN                          NaN   \n",
       "4                                         NaN                          NaN   \n",
       "\n",
       "                                            Based on  \\\n",
       "0                        [Characters, by Rex Weiner]   \n",
       "1  [the novel, After Dark, My Sweet, by, Jim Thom...   \n",
       "2             [Air America, by, Christopher Robbins]   \n",
       "3                                                NaN   \n",
       "4                                                NaN   \n",
       "\n",
       "                                            Starring  ... Predecessor  \\\n",
       "0  [Andrew Dice Clay, Wayne Newton, Priscilla Pre...  ...         NaN   \n",
       "1  [Jason Patric, Rachel Ward, Bruce Dern, George...  ...         NaN   \n",
       "2  [Mel Gibson, Robert Downey Jr., Nancy Travis, ...  ...         NaN   \n",
       "3  [Alec Baldwin, Blythe Danner, Judy Davis, Mia ...  ...         NaN   \n",
       "4        [Paul Hogan, Elias Koteas, Linda Kozlowski]  ...         NaN   \n",
       "\n",
       "  Founders Area served Products Services Russian Hebrew Revenue  \\\n",
       "0      NaN         NaN      NaN      NaN     NaN    NaN     NaN   \n",
       "1      NaN         NaN      NaN      NaN     NaN    NaN     NaN   \n",
       "2      NaN         NaN      NaN      NaN     NaN    NaN     NaN   \n",
       "3      NaN         NaN      NaN      NaN     NaN    NaN     NaN   \n",
       "4      NaN         NaN      NaN      NaN     NaN    NaN     NaN   \n",
       "\n",
       "  Operating income Polish  \n",
       "0              NaN    NaN  \n",
       "1              NaN    NaN  \n",
       "2              NaN    NaN  \n",
       "3              NaN    NaN  \n",
       "4              NaN    NaN  \n",
       "\n",
       "[5 rows x 193 columns]"
      ]
     },
     "execution_count": 7,
     "metadata": {},
     "output_type": "execute_result"
    }
   ],
   "source": [
    "# inspect w df \n",
    "\n",
    "wiki_movies_df = pd.DataFrame(wiki_movies_raw)\n",
    "\n",
    "wiki_movies_df.head()"
   ]
  },
  {
   "cell_type": "code",
   "execution_count": 8,
   "metadata": {},
   "outputs": [
    {
     "data": {
      "text/plain": [
       "['url',\n",
       " 'year',\n",
       " 'imdb_link',\n",
       " 'title',\n",
       " 'Directed by',\n",
       " 'Produced by',\n",
       " 'Screenplay by',\n",
       " 'Story by',\n",
       " 'Based on',\n",
       " 'Starring',\n",
       " 'Narrated by',\n",
       " 'Music by',\n",
       " 'Cinematography',\n",
       " 'Edited by',\n",
       " 'Productioncompany ',\n",
       " 'Distributed by',\n",
       " 'Release date',\n",
       " 'Running time',\n",
       " 'Country',\n",
       " 'Language',\n",
       " 'Budget',\n",
       " 'Box office',\n",
       " 'Written by',\n",
       " 'Genre',\n",
       " 'Theme music composer',\n",
       " 'Country of origin',\n",
       " 'Original language(s)',\n",
       " 'Producer(s)',\n",
       " 'Editor(s)',\n",
       " 'Production company(s)',\n",
       " 'Original network',\n",
       " 'Original release',\n",
       " 'Productioncompanies ',\n",
       " 'Executive producer(s)',\n",
       " 'Production location(s)',\n",
       " 'Distributor',\n",
       " 'Picture format',\n",
       " 'Audio format',\n",
       " 'Voices of',\n",
       " 'Followed by',\n",
       " 'Composer(s)',\n",
       " 'Created by',\n",
       " 'Also known as',\n",
       " 'Opening theme',\n",
       " 'No. of episodes',\n",
       " 'Preceded by',\n",
       " 'Author',\n",
       " 'Publisher',\n",
       " 'Publication date',\n",
       " 'Media type',\n",
       " 'Pages',\n",
       " 'ISBN',\n",
       " 'OCLC',\n",
       " 'LC Class',\n",
       " 'Cover artist',\n",
       " 'Series',\n",
       " 'Set in',\n",
       " 'Adaptation by',\n",
       " 'Suggested by',\n",
       " 'Biographical data',\n",
       " 'Born',\n",
       " 'Died',\n",
       " 'Resting place',\n",
       " 'Occupation',\n",
       " 'Years active',\n",
       " 'Spouse(s)',\n",
       " 'Children',\n",
       " 'Parent(s)',\n",
       " 'Genres',\n",
       " 'Instruments',\n",
       " 'Labels',\n",
       " 'Website',\n",
       " 'Traditional',\n",
       " 'Mandarin',\n",
       " 'Type',\n",
       " 'Industry',\n",
       " 'Fate',\n",
       " 'Founded',\n",
       " 'Founder',\n",
       " 'Headquarters',\n",
       " 'Parent',\n",
       " 'Released',\n",
       " 'Recorded',\n",
       " 'Venue',\n",
       " 'Length',\n",
       " 'Label',\n",
       " 'Director',\n",
       " 'Producer',\n",
       " 'Area',\n",
       " 'Coordinates',\n",
       " 'Status',\n",
       " 'Opening date',\n",
       " 'Closing date',\n",
       " 'Replaced',\n",
       " 'Replaced by',\n",
       " 'Name',\n",
       " 'Attraction type',\n",
       " 'Music',\n",
       " 'Duration',\n",
       " 'Simplified Chinese',\n",
       " 'Traditional Chinese',\n",
       " 'Hanyu Pinyin',\n",
       " 'Literal meaning',\n",
       " 'Transcriptions',\n",
       " 'Bopomofo',\n",
       " 'Gwoyeu Romatzyh',\n",
       " 'Wade–Giles',\n",
       " 'IPA',\n",
       " 'Yale Romanization',\n",
       " 'Jyutping',\n",
       " 'Hokkien POJ',\n",
       " 'Animation by',\n",
       " 'Color process',\n",
       " 'Engine(s)',\n",
       " 'Genre(s)',\n",
       " 'Actor control',\n",
       " 'Production company',\n",
       " 'Release(s)',\n",
       " 'Format(s)',\n",
       " 'Simplified',\n",
       " 'Characters',\n",
       " 'Date premiered',\n",
       " 'Place premiered',\n",
       " 'Setting',\n",
       " 'Original language',\n",
       " 'Subject',\n",
       " 'Published',\n",
       " 'Dewey Decimal',\n",
       " 'Text',\n",
       " 'Illustrator',\n",
       " 'Original title',\n",
       " 'Published in English',\n",
       " 'French',\n",
       " 'Developed by',\n",
       " 'Ending theme',\n",
       " 'No. of seasons',\n",
       " 'Nationality',\n",
       " 'Portrayed by',\n",
       " 'Alias',\n",
       " 'Species',\n",
       " 'Gender',\n",
       " 'Family',\n",
       " 'Alma mater',\n",
       " 'Camera setup',\n",
       " 'Novel(s)',\n",
       " 'Comics',\n",
       " 'Film(s)',\n",
       " 'Screen story by',\n",
       " 'Hangul',\n",
       " 'Revised Romanization',\n",
       " 'McCune–Reischauer',\n",
       " 'Developer(s)',\n",
       " 'Publisher(s)',\n",
       " 'Designer(s)',\n",
       " 'Programmer(s)',\n",
       " 'Artist(s)',\n",
       " 'Writer(s)',\n",
       " 'Engine',\n",
       " 'Platform(s)',\n",
       " 'Release',\n",
       " 'Mode(s)',\n",
       " 'Original work',\n",
       " 'Television series',\n",
       " 'Japanese',\n",
       " 'Hepburn',\n",
       " 'Literally',\n",
       " 'Cantonese',\n",
       " 'Full name',\n",
       " 'Height',\n",
       " 'Seasons',\n",
       " 'Chinese',\n",
       " 'Other names',\n",
       " 'Relatives',\n",
       " 'Yiddish',\n",
       " 'Formerly',\n",
       " 'Key people',\n",
       " 'Total assets',\n",
       " 'Owner',\n",
       " 'Number of employees',\n",
       " 'Divisions',\n",
       " 'Subsidiaries',\n",
       " 'Arabic',\n",
       " 'Romanized',\n",
       " 'Predecessor',\n",
       " 'Founders',\n",
       " 'Area served',\n",
       " 'Products',\n",
       " 'Services',\n",
       " 'Russian',\n",
       " 'Hebrew',\n",
       " 'Revenue',\n",
       " 'Operating income',\n",
       " 'Polish']"
      ]
     },
     "execution_count": 8,
     "metadata": {},
     "output_type": "execute_result"
    }
   ],
   "source": [
    "wiki_movies_df.columns.to_list()"
   ]
  },
  {
   "cell_type": "code",
   "execution_count": 9,
   "metadata": {},
   "outputs": [
    {
     "data": {
      "text/plain": [
       "7080"
      ]
     },
     "execution_count": 9,
     "metadata": {},
     "output_type": "execute_result"
    }
   ],
   "source": [
    "#list comp to filter\n",
    "# dir and imbd filter removed ~100, count now 7080\n",
    "\n",
    "wiki_movies = [movie for movie in wiki_movies_raw\n",
    "                if ('Director' in movie or 'Directed by' in movie)\n",
    "                and 'imdb_link' in movie]\n",
    "\n",
    "len(wiki_movies)"
   ]
  },
  {
   "cell_type": "code",
   "execution_count": 10,
   "metadata": {},
   "outputs": [
    {
     "data": {
      "text/plain": [
       "['url',\n",
       " 'year',\n",
       " 'imdb_link',\n",
       " 'title',\n",
       " 'Directed by',\n",
       " 'Produced by',\n",
       " 'Screenplay by',\n",
       " 'Story by',\n",
       " 'Based on',\n",
       " 'Starring',\n",
       " 'Narrated by',\n",
       " 'Music by',\n",
       " 'Cinematography',\n",
       " 'Edited by',\n",
       " 'Productioncompany ',\n",
       " 'Distributed by',\n",
       " 'Release date',\n",
       " 'Running time',\n",
       " 'Country',\n",
       " 'Language',\n",
       " 'Budget',\n",
       " 'Box office',\n",
       " 'Written by',\n",
       " 'Genre',\n",
       " 'Theme music composer',\n",
       " 'Country of origin',\n",
       " 'Original language(s)',\n",
       " 'Producer(s)',\n",
       " 'Editor(s)',\n",
       " 'Production company(s)',\n",
       " 'Original network',\n",
       " 'Original release',\n",
       " 'Productioncompanies ',\n",
       " 'Executive producer(s)',\n",
       " 'Production location(s)',\n",
       " 'Distributor',\n",
       " 'Picture format',\n",
       " 'Audio format',\n",
       " 'Voices of',\n",
       " 'Followed by',\n",
       " 'Composer(s)',\n",
       " 'Created by',\n",
       " 'Also known as',\n",
       " 'Opening theme',\n",
       " 'No. of episodes',\n",
       " 'Preceded by',\n",
       " 'Adaptation by',\n",
       " 'Suggested by',\n",
       " 'Traditional',\n",
       " 'Mandarin',\n",
       " 'Released',\n",
       " 'Recorded',\n",
       " 'Venue',\n",
       " 'Length',\n",
       " 'Label',\n",
       " 'Director',\n",
       " 'Producer',\n",
       " 'Animation by',\n",
       " 'Color process',\n",
       " 'Simplified',\n",
       " 'French',\n",
       " 'Camera setup',\n",
       " 'Screen story by',\n",
       " 'Hangul',\n",
       " 'Revised Romanization',\n",
       " 'McCune–Reischauer',\n",
       " 'Original title',\n",
       " 'Japanese',\n",
       " 'Hepburn',\n",
       " 'Literally',\n",
       " 'Cantonese',\n",
       " 'Chinese',\n",
       " 'Yiddish',\n",
       " 'Arabic',\n",
       " 'Romanized',\n",
       " 'Russian',\n",
       " 'Hebrew',\n",
       " 'Polish']"
      ]
     },
     "execution_count": 10,
     "metadata": {},
     "output_type": "execute_result"
    }
   ],
   "source": [
    "#re-create df - columns down from 198 to 78\n",
    "wiki_movies_df = pd.DataFrame(wiki_movies)\n",
    "\n",
    "wiki_movies_df.columns.to_list()"
   ]
  },
  {
   "cell_type": "code",
   "execution_count": 11,
   "metadata": {},
   "outputs": [
    {
     "data": {
      "text/plain": [
       "7076"
      ]
     },
     "execution_count": 11,
     "metadata": {},
     "output_type": "execute_result"
    }
   ],
   "source": [
    "#filter for  'No. of episodes'\n",
    "#creating new list comp here for demo, would often just go back to edit first list comp in workflow\n",
    "\n",
    "#len 7076 - removed 4 tv shows \n",
    "\n",
    "wiki_movies = [movie for movie in wiki_movies_raw\n",
    "                if ('Director' in movie or 'Directed by' in movie)\n",
    "                and 'imdb_link' in movie\n",
    "                and 'No. of episodes' not in movie]\n",
    "\n",
    "len(wiki_movies)\n"
   ]
  },
  {
   "cell_type": "markdown",
   "metadata": {},
   "source": [
    "Functions for cleaning:\n",
    "\n",
    "8.3.5"
   ]
  },
  {
   "cell_type": "code",
   "execution_count": 12,
   "metadata": {},
   "outputs": [],
   "source": [
    "\n",
    "def clean_movie(movie):\n",
    "    movie = dict(movie) #create local non distructive copy (constructor fxn)\n",
    "    return movie\n"
   ]
  },
  {
   "cell_type": "code",
   "execution_count": 13,
   "metadata": {},
   "outputs": [
    {
     "data": {
      "text/html": [
       "<div>\n",
       "<style scoped>\n",
       "    .dataframe tbody tr th:only-of-type {\n",
       "        vertical-align: middle;\n",
       "    }\n",
       "\n",
       "    .dataframe tbody tr th {\n",
       "        vertical-align: top;\n",
       "    }\n",
       "\n",
       "    .dataframe thead th {\n",
       "        text-align: right;\n",
       "    }\n",
       "</style>\n",
       "<table border=\"1\" class=\"dataframe\">\n",
       "  <thead>\n",
       "    <tr style=\"text-align: right;\">\n",
       "      <th></th>\n",
       "      <th>url</th>\n",
       "      <th>year</th>\n",
       "      <th>imdb_link</th>\n",
       "      <th>title</th>\n",
       "      <th>Directed by</th>\n",
       "      <th>Produced by</th>\n",
       "      <th>Screenplay by</th>\n",
       "      <th>Story by</th>\n",
       "      <th>Based on</th>\n",
       "      <th>Starring</th>\n",
       "      <th>...</th>\n",
       "      <th>Hepburn</th>\n",
       "      <th>Literally</th>\n",
       "      <th>Cantonese</th>\n",
       "      <th>Chinese</th>\n",
       "      <th>Yiddish</th>\n",
       "      <th>Arabic</th>\n",
       "      <th>Romanized</th>\n",
       "      <th>Russian</th>\n",
       "      <th>Hebrew</th>\n",
       "      <th>Polish</th>\n",
       "    </tr>\n",
       "  </thead>\n",
       "  <tbody>\n",
       "    <tr>\n",
       "      <th>6838</th>\n",
       "      <td>https://en.wikipedia.org/wiki/The_Insult_(film)</td>\n",
       "      <td>2018</td>\n",
       "      <td>https://www.imdb.com/title/tt7048622/</td>\n",
       "      <td>The Insult</td>\n",
       "      <td>Ziad Doueiri</td>\n",
       "      <td>[Rachid Bouchareb, Jean Bréhat, Julie Gayet, A...</td>\n",
       "      <td>NaN</td>\n",
       "      <td>NaN</td>\n",
       "      <td>NaN</td>\n",
       "      <td>[Adel Karam, Kamel El Basha]</td>\n",
       "      <td>...</td>\n",
       "      <td>NaN</td>\n",
       "      <td>Case No. 23</td>\n",
       "      <td>NaN</td>\n",
       "      <td>NaN</td>\n",
       "      <td>NaN</td>\n",
       "      <td>قضية رقم ٢٣</td>\n",
       "      <td>Qadiyya raqm 23</td>\n",
       "      <td>NaN</td>\n",
       "      <td>NaN</td>\n",
       "      <td>NaN</td>\n",
       "    </tr>\n",
       "    <tr>\n",
       "      <th>7062</th>\n",
       "      <td>https://en.wikipedia.org/wiki/Capernaum_(film)</td>\n",
       "      <td>2018</td>\n",
       "      <td>https://www.imdb.com/title/tt8267604/</td>\n",
       "      <td>Capernaum</td>\n",
       "      <td>Nadine Labaki</td>\n",
       "      <td>[Michel Merkt, Khaled Mouzanar]</td>\n",
       "      <td>[Nadine Labaki, Jihad Hojaily, Michelle Keserw...</td>\n",
       "      <td>[Georges Khabbaz, Nadine Labaki, Michelle Kese...</td>\n",
       "      <td>NaN</td>\n",
       "      <td>[Zain Al Rafeea, Yordanos Shiferaw, Boluwatife...</td>\n",
       "      <td>...</td>\n",
       "      <td>NaN</td>\n",
       "      <td>NaN</td>\n",
       "      <td>NaN</td>\n",
       "      <td>NaN</td>\n",
       "      <td>NaN</td>\n",
       "      <td>کفرناحوم‎</td>\n",
       "      <td>NaN</td>\n",
       "      <td>NaN</td>\n",
       "      <td>NaN</td>\n",
       "      <td>NaN</td>\n",
       "    </tr>\n",
       "  </tbody>\n",
       "</table>\n",
       "<p>2 rows × 78 columns</p>\n",
       "</div>"
      ],
      "text/plain": [
       "                                                  url  year  \\\n",
       "6838  https://en.wikipedia.org/wiki/The_Insult_(film)  2018   \n",
       "7062   https://en.wikipedia.org/wiki/Capernaum_(film)  2018   \n",
       "\n",
       "                                  imdb_link       title    Directed by  \\\n",
       "6838  https://www.imdb.com/title/tt7048622/  The Insult   Ziad Doueiri   \n",
       "7062  https://www.imdb.com/title/tt8267604/   Capernaum  Nadine Labaki   \n",
       "\n",
       "                                            Produced by  \\\n",
       "6838  [Rachid Bouchareb, Jean Bréhat, Julie Gayet, A...   \n",
       "7062                    [Michel Merkt, Khaled Mouzanar]   \n",
       "\n",
       "                                          Screenplay by  \\\n",
       "6838                                                NaN   \n",
       "7062  [Nadine Labaki, Jihad Hojaily, Michelle Keserw...   \n",
       "\n",
       "                                               Story by Based on  \\\n",
       "6838                                                NaN      NaN   \n",
       "7062  [Georges Khabbaz, Nadine Labaki, Michelle Kese...      NaN   \n",
       "\n",
       "                                               Starring  ... Hepburn  \\\n",
       "6838                       [Adel Karam, Kamel El Basha]  ...     NaN   \n",
       "7062  [Zain Al Rafeea, Yordanos Shiferaw, Boluwatife...  ...     NaN   \n",
       "\n",
       "        Literally Cantonese Chinese Yiddish       Arabic        Romanized  \\\n",
       "6838  Case No. 23       NaN     NaN     NaN  قضية رقم ٢٣  Qadiyya raqm 23   \n",
       "7062          NaN       NaN     NaN     NaN    کفرناحوم‎              NaN   \n",
       "\n",
       "     Russian Hebrew Polish  \n",
       "6838     NaN    NaN    NaN  \n",
       "7062     NaN    NaN    NaN  \n",
       "\n",
       "[2 rows x 78 columns]"
      ]
     },
     "execution_count": 13,
     "metadata": {},
     "output_type": "execute_result"
    }
   ],
   "source": [
    "#inspect languages \n",
    "wiki_movies_df[wiki_movies_df['Arabic'].notnull()]\n",
    "\n",
    "#found that lang columns are for alt names in each lang -> combine into dict in one column "
   ]
  },
  {
   "cell_type": "code",
   "execution_count": 14,
   "metadata": {},
   "outputs": [
    {
     "data": {
      "text/plain": [
       "['Adaptation by',\n",
       " 'Also known as',\n",
       " 'Animation by',\n",
       " 'Arabic',\n",
       " 'Audio format',\n",
       " 'Based on',\n",
       " 'Box office',\n",
       " 'Budget',\n",
       " 'Camera setup',\n",
       " 'Cantonese',\n",
       " 'Chinese',\n",
       " 'Cinematography',\n",
       " 'Color process',\n",
       " 'Composer(s)',\n",
       " 'Country',\n",
       " 'Country of origin',\n",
       " 'Created by',\n",
       " 'Directed by',\n",
       " 'Director',\n",
       " 'Distributed by',\n",
       " 'Distributor',\n",
       " 'Edited by',\n",
       " 'Editor(s)',\n",
       " 'Executive producer(s)',\n",
       " 'Followed by',\n",
       " 'French',\n",
       " 'Genre',\n",
       " 'Hangul',\n",
       " 'Hebrew',\n",
       " 'Hepburn',\n",
       " 'Japanese',\n",
       " 'Label',\n",
       " 'Language',\n",
       " 'Length',\n",
       " 'Literally',\n",
       " 'Mandarin',\n",
       " 'McCune–Reischauer',\n",
       " 'Music by',\n",
       " 'Narrated by',\n",
       " 'No. of episodes',\n",
       " 'Opening theme',\n",
       " 'Original language(s)',\n",
       " 'Original network',\n",
       " 'Original release',\n",
       " 'Original title',\n",
       " 'Picture format',\n",
       " 'Polish',\n",
       " 'Preceded by',\n",
       " 'Produced by',\n",
       " 'Producer',\n",
       " 'Producer(s)',\n",
       " 'Production company(s)',\n",
       " 'Production location(s)',\n",
       " 'Productioncompanies ',\n",
       " 'Productioncompany ',\n",
       " 'Recorded',\n",
       " 'Release date',\n",
       " 'Released',\n",
       " 'Revised Romanization',\n",
       " 'Romanized',\n",
       " 'Running time',\n",
       " 'Russian',\n",
       " 'Screen story by',\n",
       " 'Screenplay by',\n",
       " 'Simplified',\n",
       " 'Starring',\n",
       " 'Story by',\n",
       " 'Suggested by',\n",
       " 'Theme music composer',\n",
       " 'Traditional',\n",
       " 'Venue',\n",
       " 'Voices of',\n",
       " 'Written by',\n",
       " 'Yiddish',\n",
       " 'imdb_link',\n",
       " 'title',\n",
       " 'url',\n",
       " 'year']"
      ]
     },
     "execution_count": 14,
     "metadata": {},
     "output_type": "execute_result"
    }
   ],
   "source": [
    "#check columns for alt titles\n",
    "\n",
    "sorted(wiki_movies_df.columns.to_list())"
   ]
  },
  {
   "cell_type": "markdown",
   "metadata": {},
   "source": [
    "Identify alternate title lang \n",
    "\n",
    "Also known as \n",
    "Arabic\n",
    "Cantonese\n",
    "Chinese\n",
    "French\n",
    "Hangul\n",
    "Hebrew\n",
    "Japanese\n",
    "Literally\n",
    "Mandarin\n",
    "McCune–Reischauer\n",
    "Original title\n",
    "Polish\n",
    "Revised Romanization\n",
    "Romanized\n",
    "Russian\n",
    "Simplified\n",
    "Traditional\n",
    "Yiddish"
   ]
  },
  {
   "cell_type": "code",
   "execution_count": 15,
   "metadata": {},
   "outputs": [
    {
     "data": {
      "text/plain": [
       "['Animation by',\n",
       " 'Audio format',\n",
       " 'Based on',\n",
       " 'Box office',\n",
       " 'Budget',\n",
       " 'Cinematography',\n",
       " 'Color process',\n",
       " 'Composer(s)',\n",
       " 'Country',\n",
       " 'Created by',\n",
       " 'Director',\n",
       " 'Distributor',\n",
       " 'Editor(s)',\n",
       " 'Executive producer(s)',\n",
       " 'Followed by',\n",
       " 'Genre',\n",
       " 'Label',\n",
       " 'Language',\n",
       " 'Narrated by',\n",
       " 'Original language(s)',\n",
       " 'Original network',\n",
       " 'Picture format',\n",
       " 'Preceded by',\n",
       " 'Producer(s)',\n",
       " 'Production company(s)',\n",
       " 'Production location(s)',\n",
       " 'Recorded',\n",
       " 'Release date',\n",
       " 'Running time',\n",
       " 'Starring',\n",
       " 'Suggested by',\n",
       " 'Venue',\n",
       " 'Voices of',\n",
       " 'Writer(s)',\n",
       " 'alt_titles',\n",
       " 'imdb_link',\n",
       " 'title',\n",
       " 'url',\n",
       " 'year']"
      ]
     },
     "execution_count": 15,
     "metadata": {},
     "output_type": "execute_result"
    }
   ],
   "source": [
    "#handle alt titles \n",
    "#pseud:\n",
    "    # 1 empty dict to hold all alt titles\n",
    "    # 2 loop thru list of alt tittle keys (check if key exists, add to alt titles dict)\n",
    "    #3 add alt titles dict to movie object\n",
    "\n",
    "\n",
    "def clean_movie(movie):\n",
    "    movie = dict(movie) #create local non distructive copy (constructor fxn)\n",
    "    alt_titles = {}\n",
    "    \n",
    "\n",
    "    #combine alternate titles into one list \n",
    "\n",
    "    for key in [\"Also known as\", \"Arabic\",\"Cantonese\",\"Chinese\",\"French\", \"Hepburn\",        #1\n",
    "    \"Hangul\",\"Hebrew\",\"Japanese\",\"Literally\",\"Mandarin\",\"McCune–Reischauer\",\n",
    "    \"Original title\",\"Polish\",\"Revised Romanization\",\"Romanized\",\"Russian\",\n",
    "    \"Simplified\",\"Traditional\",\"Yiddish\"]:\n",
    "        if key in movie:\n",
    "            alt_titles[key]= movie[key]                                             #2\n",
    "            movie.pop(key)\n",
    "\n",
    "    if len(alt_titles) > 0:                                                         #3\n",
    "        movie['alt_titles'] = alt_titles\n",
    "    \n",
    "    #merge column names for alt titles and redundant columns \n",
    "    def change_column_name(old_name, new_name):\n",
    "        if old_name in movie:\n",
    "            movie[new_name] = movie.pop(old_name)\n",
    "    \n",
    "    change_column_name(\"Directed by\", \"Director\")\n",
    "\n",
    "    change_column_name(\"Theme music composer\", \"Composer(s)\")\n",
    "\n",
    "    change_column_name(\"Country of origin\", \"Country\")\n",
    "\n",
    "    change_column_name(\"Distributed by\", \"Distributor\")\n",
    "\n",
    "    change_column_name(\"Edited by\",\"Editor(s)\")\n",
    "\n",
    "    change_column_name(\"Music by\",\"Composer(s)\")\n",
    "\n",
    "    change_column_name(\"Produced by\",\"Producer(s)\")\n",
    "\n",
    "    change_column_name(\"Producer\",\"Producer(s)\")\n",
    "\n",
    "    change_column_name(\"Productioncompanies \",\"Production company(s)\")\n",
    "\n",
    "    change_column_name(\"Productioncompany \",\"Production company(s)\")\n",
    "\n",
    "    change_column_name(\"Released\",\"Release date\")\n",
    "\n",
    "    change_column_name(\"Screen story by\",\"Writer(s)\")\n",
    "\n",
    "    change_column_name(\"Story by\",\"Writer(s)\")\n",
    "\n",
    "    change_column_name(\"Screenplay by\",\"Writer(s)\")\n",
    "\n",
    "    change_column_name(\"Written by\",\"Writer(s)\")\n",
    "\n",
    "    change_column_name(\"Adaptation by\",\"Writer(s)\")\n",
    "\n",
    "    change_column_name(\"Length\",\"Running time\")\n",
    "\n",
    "    change_column_name(\"Original release\",\"Release date\")\n",
    "\n",
    "\n",
    "    return movie\n",
    "\n",
    "\n",
    "clean_movies = [clean_movie(movie) for movie in wiki_movies]\n",
    "\n",
    "wiki_movies_df = pd.DataFrame(clean_movies)\n",
    "\n",
    "sorted(wiki_movies_df.columns.to_list())"
   ]
  },
  {
   "cell_type": "code",
   "execution_count": 16,
   "metadata": {},
   "outputs": [
    {
     "data": {
      "text/plain": [
       "{'url': 'https://en.wikipedia.org/wiki/Capernaum_(film)',\n",
       " 'year': 2018,\n",
       " 'imdb_link': 'https://www.imdb.com/title/tt8267604/',\n",
       " 'title': 'Capernaum',\n",
       " 'Starring': ['Zain Al Rafeea',\n",
       "  'Yordanos Shiferaw',\n",
       "  'Boluwatife Bankole',\n",
       "  'Kawthar Al Haddad',\n",
       "  'Fadi Kamel Youssef',\n",
       "  'Nour el Husseini',\n",
       "  'Alaa Chouchnieh',\n",
       "  'Cedra Izam',\n",
       "  'Nadine Labaki',\n",
       "  'Joseph Jimbazian',\n",
       "  'Farah Hasno'],\n",
       " 'Cinematography': 'Christopher Aoun',\n",
       " 'Release date': ['17 May 2018',\n",
       "  '(',\n",
       "  '2018-05-17',\n",
       "  ')',\n",
       "  '(',\n",
       "  'Cannes',\n",
       "  ')',\n",
       "  '20 September 2018',\n",
       "  '(',\n",
       "  '2018-09-20',\n",
       "  ')',\n",
       "  '(Lebanon)'],\n",
       " 'Running time': '126 minutes',\n",
       " 'Country': 'Lebanon',\n",
       " 'Language': ['Arabic', 'Amharic'],\n",
       " 'Budget': '$4 million',\n",
       " 'Box office': '$68.6 million',\n",
       " 'alt_titles': {'Arabic': 'کفرناحوم\\u200e'},\n",
       " 'Director': 'Nadine Labaki',\n",
       " 'Distributor': 'Sony Pictures Classics',\n",
       " 'Editor(s)': 'Konstantin Bock',\n",
       " 'Composer(s)': 'Khaled Mouzanar',\n",
       " 'Producer(s)': ['Michel Merkt', 'Khaled Mouzanar'],\n",
       " 'Production company(s)': 'Mooz Films',\n",
       " 'Writer(s)': ['Nadine Labaki', 'Jihad Hojaily', 'Michelle Keserwany']}"
      ]
     },
     "execution_count": 16,
     "metadata": {},
     "output_type": "execute_result"
    }
   ],
   "source": [
    "clean_movies[7058]"
   ]
  },
  {
   "cell_type": "markdown",
   "metadata": {},
   "source": [
    "remove duplicate rows 8.3.7\n",
    "\n",
    "    - imdb id extract from imdb link\n",
    "    - regex"
   ]
  },
  {
   "cell_type": "code",
   "execution_count": 17,
   "metadata": {},
   "outputs": [],
   "source": [
    "\n",
    "#note on regex here:\n",
    "    # () group \n",
    "    # read as raw string \n",
    "    # tt matches tt\n",
    "    # \\d digits\n",
    "    # {7}exactly 7\n",
    "wiki_movies_df[\"imdb_id\"] =wiki_movies_df[\"imdb_link\"].str.extract(r\"(tt\\d{7})\")"
   ]
  },
  {
   "cell_type": "code",
   "execution_count": 18,
   "metadata": {},
   "outputs": [
    {
     "data": {
      "text/plain": [
       "0       tt0098987\n",
       "1       tt0098994\n",
       "2       tt0099005\n",
       "3       tt0099012\n",
       "4       tt0099018\n",
       "          ...    \n",
       "7071    tt1255919\n",
       "7072    tt6266538\n",
       "7073    tt4669788\n",
       "7074    tt7137380\n",
       "7075    tt9495224\n",
       "Name: imdb_id, Length: 7076, dtype: object"
      ]
     },
     "execution_count": 18,
     "metadata": {},
     "output_type": "execute_result"
    }
   ],
   "source": [
    "wiki_movies_df[\"imdb_id\"]"
   ]
  },
  {
   "cell_type": "code",
   "execution_count": 19,
   "metadata": {},
   "outputs": [
    {
     "name": "stdout",
     "output_type": "stream",
     "text": [
      "7076\n"
     ]
    }
   ],
   "source": [
    "print(len(wiki_movies_df))\n"
   ]
  },
  {
   "cell_type": "code",
   "execution_count": 20,
   "metadata": {},
   "outputs": [
    {
     "name": "stdout",
     "output_type": "stream",
     "text": [
      "7033\n"
     ]
    },
    {
     "data": {
      "text/plain": [
       "['Animation by',\n",
       " 'Audio format',\n",
       " 'Based on',\n",
       " 'Box office',\n",
       " 'Budget',\n",
       " 'Cinematography',\n",
       " 'Color process',\n",
       " 'Composer(s)',\n",
       " 'Country',\n",
       " 'Created by',\n",
       " 'Director',\n",
       " 'Distributor',\n",
       " 'Editor(s)',\n",
       " 'Executive producer(s)',\n",
       " 'Followed by',\n",
       " 'Genre',\n",
       " 'Label',\n",
       " 'Language',\n",
       " 'Narrated by',\n",
       " 'Original language(s)',\n",
       " 'Original network',\n",
       " 'Picture format',\n",
       " 'Preceded by',\n",
       " 'Producer(s)',\n",
       " 'Production company(s)',\n",
       " 'Production location(s)',\n",
       " 'Recorded',\n",
       " 'Release date',\n",
       " 'Running time',\n",
       " 'Starring',\n",
       " 'Suggested by',\n",
       " 'Venue',\n",
       " 'Voices of',\n",
       " 'Writer(s)',\n",
       " 'alt_titles',\n",
       " 'imdb_id',\n",
       " 'imdb_link',\n",
       " 'title',\n",
       " 'url',\n",
       " 'year']"
      ]
     },
     "execution_count": 20,
     "metadata": {},
     "output_type": "execute_result"
    }
   ],
   "source": [
    "#duplicates dropped - 43 \n",
    "wiki_movies_df.drop_duplicates(subset='imdb_id', inplace=True)\n",
    "\n",
    "print(len(wiki_movies_df))\n",
    "\n",
    "wiki_movies_df.head()\n",
    "\n",
    "sorted(wiki_movies_df.columns.to_list())"
   ]
  },
  {
   "cell_type": "markdown",
   "metadata": {},
   "source": [
    "remove mostly null columns"
   ]
  },
  {
   "cell_type": "code",
   "execution_count": 21,
   "metadata": {},
   "outputs": [
    {
     "data": {
      "text/plain": [
       "False    7031\n",
       "True        2\n",
       "Name: Animation by, dtype: int64"
      ]
     },
     "execution_count": 21,
     "metadata": {},
     "output_type": "execute_result"
    }
   ],
   "source": [
    "(wiki_movies_df[\"Animation by\"].notnull()).value_counts()"
   ]
  },
  {
   "cell_type": "code",
   "execution_count": 22,
   "metadata": {},
   "outputs": [
    {
     "data": {
      "text/plain": [
       "[['url', 0],\n",
       " ['year', 0],\n",
       " ['imdb_link', 0],\n",
       " ['title', 1],\n",
       " ['Based on', 4852],\n",
       " ['Starring', 184],\n",
       " ['Narrated by', 6752],\n",
       " ['Cinematography', 691],\n",
       " ['Release date', 32],\n",
       " ['Running time', 139],\n",
       " ['Country', 236],\n",
       " ['Language', 244],\n",
       " ['Budget', 2295],\n",
       " ['Box office', 1548],\n",
       " ['Director', 0],\n",
       " ['Distributor', 357],\n",
       " ['Editor(s)', 548],\n",
       " ['Composer(s)', 518],\n",
       " ['Producer(s)', 202],\n",
       " ['Production company(s)', 1678],\n",
       " ['Writer(s)', 199],\n",
       " ['Genre', 6923],\n",
       " ['Original language(s)', 6875],\n",
       " ['Original network', 6908],\n",
       " ['Executive producer(s)', 6936],\n",
       " ['Production location(s)', 6986],\n",
       " ['Picture format', 6969],\n",
       " ['Audio format', 6972],\n",
       " ['Voices of', 7031],\n",
       " ['Followed by', 7024],\n",
       " ['Created by', 7023],\n",
       " ['Preceded by', 7023],\n",
       " ['Suggested by', 7032],\n",
       " ['alt_titles', 7012],\n",
       " ['Recorded', 7031],\n",
       " ['Venue', 7032],\n",
       " ['Label', 7031],\n",
       " ['Animation by', 7031],\n",
       " ['Color process', 7032],\n",
       " ['imdb_id', 0]]"
      ]
     },
     "execution_count": 22,
     "metadata": {},
     "output_type": "execute_result"
    }
   ],
   "source": [
    "#list comp to find nulls\n",
    "\n",
    "[[column, wiki_movies_df[column].isnull().sum()] for column in wiki_movies_df.columns]"
   ]
  },
  {
   "cell_type": "code",
   "execution_count": 23,
   "metadata": {},
   "outputs": [],
   "source": [
    "#programmatically remove 90%+ null values - adjust above list comp\n",
    "\n",
    "\n",
    "wiki_columns_keep = [column for column in wiki_movies_df.columns if wiki_movies_df[column].isnull().sum() < len(wiki_movies_df) *0.9]\n",
    "\n",
    "wiki_movies_df = wiki_movies_df[wiki_columns_keep]"
   ]
  },
  {
   "cell_type": "code",
   "execution_count": 24,
   "metadata": {},
   "outputs": [
    {
     "data": {
      "text/plain": [
       "['url',\n",
       " 'year',\n",
       " 'imdb_link',\n",
       " 'title',\n",
       " 'Based on',\n",
       " 'Starring',\n",
       " 'Cinematography',\n",
       " 'Release date',\n",
       " 'Running time',\n",
       " 'Country',\n",
       " 'Language',\n",
       " 'Budget',\n",
       " 'Box office',\n",
       " 'Director',\n",
       " 'Distributor',\n",
       " 'Editor(s)',\n",
       " 'Composer(s)',\n",
       " 'Producer(s)',\n",
       " 'Production company(s)',\n",
       " 'Writer(s)',\n",
       " 'imdb_id']"
      ]
     },
     "execution_count": 24,
     "metadata": {},
     "output_type": "execute_result"
    }
   ],
   "source": [
    "#checked trimmed columns \n",
    "#from 191 columns to 21 columns \n",
    "wiki_movies_df.columns.to_list()"
   ]
  },
  {
   "cell_type": "markdown",
   "metadata": {},
   "source": [
    "8.3.8 parse data (typing)"
   ]
  },
  {
   "cell_type": "code",
   "execution_count": 25,
   "metadata": {},
   "outputs": [
    {
     "data": {
      "text/plain": [
       "url                      object\n",
       "year                      int64\n",
       "imdb_link                object\n",
       "title                    object\n",
       "Based on                 object\n",
       "Starring                 object\n",
       "Cinematography           object\n",
       "Release date             object\n",
       "Running time             object\n",
       "Country                  object\n",
       "Language                 object\n",
       "Budget                   object\n",
       "Box office               object\n",
       "Director                 object\n",
       "Distributor              object\n",
       "Editor(s)                object\n",
       "Composer(s)              object\n",
       "Producer(s)              object\n",
       "Production company(s)    object\n",
       "Writer(s)                object\n",
       "imdb_id                  object\n",
       "dtype: object"
      ]
     },
     "execution_count": 25,
     "metadata": {},
     "output_type": "execute_result"
    }
   ],
   "source": [
    "#notes: \n",
    "    # release date => date obj\n",
    "    # running time => num\n",
    "    # box office => num\n",
    "    # budget => num \n",
    "wiki_movies_df.dtypes"
   ]
  },
  {
   "cell_type": "code",
   "execution_count": 26,
   "metadata": {},
   "outputs": [],
   "source": [
    "#box office parsing \n",
    "\n",
    "box_office = wiki_movies_df[\"Box office\"].dropna()"
   ]
  },
  {
   "cell_type": "code",
   "execution_count": 27,
   "metadata": {},
   "outputs": [
    {
     "data": {
      "text/plain": [
       "34                           [US$, 4,212,828]\n",
       "54      [$6,698,361 (, United States, ), [2]]\n",
       "74                    [$6,488,144, (US), [1]]\n",
       "126                [US$1,531,489, (domestic)]\n",
       "130                          [US$, 4,803,039]\n",
       "                        ...                  \n",
       "6980               [$99.6, million, [4], [5]]\n",
       "6994                   [$365.6, million, [1]]\n",
       "6995                         [$53.8, million]\n",
       "7015                     [$435, million, [7]]\n",
       "7048                   [$529.3, million, [4]]\n",
       "Name: Box office, Length: 135, dtype: object"
      ]
     },
     "execution_count": 27,
     "metadata": {},
     "output_type": "execute_result"
    }
   ],
   "source": [
    "#def example for box office, then lambda next bcs one time use \n",
    "\n",
    "def is_not_a_string(x):\n",
    "    return type(x) != str\n",
    "\n",
    "box_office[box_office.map(is_not_a_string)]\n",
    "\n",
    "#136 results "
   ]
  },
  {
   "cell_type": "code",
   "execution_count": 28,
   "metadata": {},
   "outputs": [
    {
     "data": {
      "text/plain": [
       "34                           [US$, 4,212,828]\n",
       "54      [$6,698,361 (, United States, ), [2]]\n",
       "74                    [$6,488,144, (US), [1]]\n",
       "126                [US$1,531,489, (domestic)]\n",
       "130                          [US$, 4,803,039]\n",
       "                        ...                  \n",
       "6980               [$99.6, million, [4], [5]]\n",
       "6994                   [$365.6, million, [1]]\n",
       "6995                         [$53.8, million]\n",
       "7015                     [$435, million, [7]]\n",
       "7048                   [$529.3, million, [4]]\n",
       "Name: Box office, Length: 135, dtype: object"
      ]
     },
     "execution_count": 28,
     "metadata": {},
     "output_type": "execute_result"
    }
   ],
   "source": [
    "#lambda version of is not a string\n",
    "\n",
    "box_office[box_office.map(lambda x: type(x) !=str)]\n"
   ]
  },
  {
   "cell_type": "code",
   "execution_count": 29,
   "metadata": {},
   "outputs": [],
   "source": [
    "#lambda with join and space as joining char \n",
    "\n",
    "box_office = box_office.apply(lambda x: \" \".join(x) if type(x) == list else x)"
   ]
  },
  {
   "cell_type": "code",
   "execution_count": 30,
   "metadata": {},
   "outputs": [
    {
     "data": {
      "text/plain": [
       "0          $21.4 million\n",
       "1           $2.7 million\n",
       "2            $57,718,089\n",
       "3             $7,331,647\n",
       "4       $6,939,946 (USA)\n",
       "              ...       \n",
       "7070       $19.4 million\n",
       "7071       $41.9 million\n",
       "7072       $76.1 million\n",
       "7073       $38.4 million\n",
       "7074        $5.5 million\n",
       "Name: Box office, Length: 5485, dtype: object"
      ]
     },
     "execution_count": 30,
     "metadata": {},
     "output_type": "execute_result"
    }
   ],
   "source": [
    "type(box_office[0])\n",
    "\n",
    "box_office"
   ]
  },
  {
   "cell_type": "code",
   "execution_count": 31,
   "metadata": {},
   "outputs": [
    {
     "data": {
      "text/plain": [
       "3896"
      ]
     },
     "execution_count": 31,
     "metadata": {},
     "output_type": "execute_result"
    }
   ],
   "source": [
    "#first regex form (use r to have escape chars work)\n",
    "\n",
    "#3918 returns that match form one \n",
    "\n",
    "form_one = r\"\\$\\d+\\.?\\d*\\s*[mb]illion\"\n",
    "\n",
    "box_office.str.contains(form_one, flags=re.IGNORECASE, na=False).sum()"
   ]
  },
  {
   "cell_type": "code",
   "execution_count": 32,
   "metadata": {},
   "outputs": [
    {
     "data": {
      "text/plain": [
       "1544"
      ]
     },
     "execution_count": 32,
     "metadata": {},
     "output_type": "execute_result"
    }
   ],
   "source": [
    "#form two \n",
    "\n",
    "#1559 returns that match form one\n",
    "\n",
    "form_two = r\"\\$\\d{1,3}(?:,\\d{3})+\"\n",
    "\n",
    "box_office.str.contains(form_two, flags=re.IGNORECASE, na=False).sum()"
   ]
  },
  {
   "cell_type": "code",
   "execution_count": 33,
   "metadata": {},
   "outputs": [],
   "source": [
    "matches_form_one = box_office.str.contains(form_one, flags=re.IGNORECASE, na=False)\n",
    "\n",
    "matches_form_two = box_office.str.contains(form_two, flags=re.IGNORECASE, na=False)"
   ]
  },
  {
   "cell_type": "code",
   "execution_count": 34,
   "metadata": {},
   "outputs": [
    {
     "data": {
      "text/plain": [
       "34                         US$ 4,212,828\n",
       "79                              $335.000\n",
       "110                   $4.35-4.37 million\n",
       "130                        US$ 4,803,039\n",
       "600                           $5000 (US)\n",
       "731                         $ 11,146,270\n",
       "957                             $ 50,004\n",
       "1070                          35,254,617\n",
       "1147    $ 407,618 (U.S.) (sub-total) [1]\n",
       "1446                        $ 11,829,959\n",
       "1480                          £3 million\n",
       "1611                            $520.000\n",
       "1865                        ¥1.1 billion\n",
       "2032                                 N/A\n",
       "2091                                $309\n",
       "2130               US$ 171.8 million [9]\n",
       "2257                   US$ 3,395,581 [1]\n",
       "2263            $ 1,223,034 ( domestic )\n",
       "2347                            $282.175\n",
       "2638            $ 104,883 (US sub-total)\n",
       "2665         926,423 admissions (France)\n",
       "2697      $ 1.7 million (US) (sub-total)\n",
       "2823                            $414.000\n",
       "2924                            $621.000\n",
       "3088           $32 [2] –33.1 million [1]\n",
       "3631                                 TBA\n",
       "3859                  $38.9–40.3 million\n",
       "3879            CN¥3.650 million (China)\n",
       "4116                          £7,385,434\n",
       "4123                            $161.000\n",
       "4261                  $20.7–23.9 million\n",
       "4306                              $20-30\n",
       "4492                        $47.7 millon\n",
       "4561             $45.2k (only in Turkey)\n",
       "4662                USD$ 8.2 million [2]\n",
       "5362                   $ 142 million [3]\n",
       "5447                               £2.56\n",
       "5784                            413 733$\n",
       "6013                             Unknown\n",
       "6145                  $17.5–18.4 million\n",
       "6234                  $41.8–41.9 million\n",
       "6369                               $111k\n",
       "6370                                $588\n",
       "6593                      less than $372\n",
       "6829                    $ 41 million [3]\n",
       "6843                             8 crore\n",
       "6904                         $6.9 millon\n",
       "Name: Box office, dtype: object"
      ]
     },
     "execution_count": 34,
     "metadata": {},
     "output_type": "execute_result"
    }
   ],
   "source": [
    "#check box office values form matching \n",
    "#count 47\n",
    "\n",
    "box_office[~matches_form_one & ~matches_form_two]\n"
   ]
  },
  {
   "cell_type": "code",
   "execution_count": 35,
   "metadata": {},
   "outputs": [],
   "source": [
    "#fix pattern matches\n",
    "    # 1 space btw dollar sign and num => \\s* after dollar signs\n",
    "    # 2 period thousands sep not comma => [,/.] and neg look ahead group for ?!\\s[mb] (not capture 1.2 bil as 1,2)\n",
    "    # 3 values as range => .str.replace(r\"\\$.*[-—–](?![a-z])\", \"$\"\", regex=True)\n",
    "    # 4 million sic \"millon\" => [mb]illi?on (optional second i)\n",
    "\n",
    "box_office = box_office.str.replace(r\"\\$.*[-—–](?![a-z])\", \"$\", regex=True)\n",
    "\n",
    "form_one = r'\\$\\s*\\d+\\.?\\d*\\s*[mb]illi?on'\n",
    "form_two = r'\\$\\s*\\d{1,3}(?:[\\.,]\\d{3})+(?!\\s[mb]illion)'\n"
   ]
  },
  {
   "cell_type": "code",
   "execution_count": 36,
   "metadata": {},
   "outputs": [
    {
     "data": {
      "text/plain": [
       "19"
      ]
     },
     "execution_count": 36,
     "metadata": {},
     "output_type": "execute_result"
    }
   ],
   "source": [
    "\n",
    "#count 19 non matches (down from 47)\n",
    "matches_form_one = box_office.str.contains(form_one, flags=re.IGNORECASE, na=False)\n",
    "\n",
    "matches_form_two = box_office.str.contains(form_two, flags=re.IGNORECASE, na=False)\n",
    "box_office[~matches_form_one & ~matches_form_two].count()\n"
   ]
  },
  {
   "cell_type": "code",
   "execution_count": 37,
   "metadata": {},
   "outputs": [],
   "source": [
    "#extract and convert box office values \n",
    "\n",
    "# box_office.str.extract(f\"({form_one}|{form_two})\")\n",
    "\n",
    "def parse_dollars(s):\n",
    "    # if s is not a string, return NaN\n",
    "    if type(s) != str:\n",
    "        return np.nan\n",
    "\n",
    "\n",
    "    # if input is of the form $###.# million\n",
    "    if re.match(r'\\$\\s*\\d+\\.?\\d*\\s*milli?on', s, flags=re.IGNORECASE):\n",
    "\n",
    "        # remove dollar sign and \" million\"\n",
    "        s = re.sub('\\$|\\s|[a-zA-Z]','', s)\n",
    "\n",
    "        # convert to float and multiply by a million\n",
    "        value = float(s) * 10**6\n",
    "\n",
    "        # return value\n",
    "        return value \n",
    "\n",
    "    # if input is of the form $###.# billion\n",
    "    elif re.match(r'\\$\\s*\\d+\\.?\\d*\\s*billi?on', s, flags=re.IGNORECASE):\n",
    "\n",
    "        # remove dollar sign and \" billion\"\n",
    "        s = re.sub('\\$|\\s|[a-zA-Z]','', s)\n",
    "\n",
    "        # convert to float and multiply by a billion\n",
    "        value = float(s) * 10**9\n",
    "\n",
    "        # return value\n",
    "        return value \n",
    "\n",
    "    # if input is of the form $###,###,###\n",
    "    elif re.match(r'\\$\\s*\\d{1,3}(?:[\\.,]\\d{3})+(?!\\s[mb]illion)', s, flags=re.IGNORECASE):\n",
    "        # remove dollar sign and commas\n",
    "        s = re.sub('\\$|,','', s)\n",
    "\n",
    "        # convert to float\n",
    "        value = float(s) \n",
    "\n",
    "        # return value\n",
    "        return value\n",
    "\n",
    "    # otherwise, return NaN\n",
    "    else:\n",
    "        return np.nan\n"
   ]
  },
  {
   "cell_type": "code",
   "execution_count": 38,
   "metadata": {},
   "outputs": [],
   "source": [
    "wiki_movies_df['box_office'] = box_office.str.extract(f'({form_one}|{form_two})', flags=re.IGNORECASE)[0].apply(parse_dollars)\n"
   ]
  },
  {
   "cell_type": "code",
   "execution_count": 39,
   "metadata": {},
   "outputs": [
    {
     "data": {
      "text/plain": [
       "0       21400000.0\n",
       "1        2700000.0\n",
       "2       57718089.0\n",
       "3        7331647.0\n",
       "4        6939946.0\n",
       "           ...    \n",
       "7071    41900000.0\n",
       "7072    76100000.0\n",
       "7073    38400000.0\n",
       "7074     5500000.0\n",
       "7075           NaN\n",
       "Name: box_office, Length: 7033, dtype: float64"
      ]
     },
     "execution_count": 39,
     "metadata": {},
     "output_type": "execute_result"
    }
   ],
   "source": [
    "wiki_movies_df[\"box_office\"]"
   ]
  },
  {
   "cell_type": "code",
   "execution_count": 40,
   "metadata": {},
   "outputs": [],
   "source": [
    "wiki_movies_df.drop(\"Box office\", axis = 1, inplace=True)"
   ]
  },
  {
   "cell_type": "markdown",
   "metadata": {},
   "source": [
    "8.3.11 parse budget data "
   ]
  },
  {
   "cell_type": "code",
   "execution_count": 41,
   "metadata": {},
   "outputs": [],
   "source": [
    "budget = wiki_movies_df[\"Budget\"].dropna()"
   ]
  },
  {
   "cell_type": "code",
   "execution_count": 42,
   "metadata": {},
   "outputs": [],
   "source": [
    "#lists to strings\n",
    "\n",
    "budget = budget.map(lambda x: \" \".join(x) if type(x) == list else x)"
   ]
  },
  {
   "cell_type": "code",
   "execution_count": 43,
   "metadata": {},
   "outputs": [],
   "source": [
    "#remove values btw dollar sign and hyphen for ranges\n",
    "budget = budget.str.replace(r'\\$.*[-—–](?![a-z])', '$', regex=True)\n",
    "\n"
   ]
  },
  {
   "cell_type": "code",
   "execution_count": 44,
   "metadata": {},
   "outputs": [],
   "source": [
    "#fix pattern matches - budget same as box office \n",
    "    # 1 space btw dollar sign and num => \\s* after dollar signs\n",
    "    # 2 period thousands sep not comma => [,/.] and neg look ahead group for ?!\\s[mb] (not capture 1.2 bil as 1,2)\n",
    "    # 3 values as range => .str.replace(r\"\\$.*[-—–](?![a-z])\", \"$\"\", regex=True)\n",
    "    # 4 million sic \"millon\" => [mb]illi?on (optional second i)\n",
    "\n",
    "budget = budget.str.replace(r\"\\$.*[-—–](?![a-z])\", \"$\", regex=True)\n",
    "\n",
    "form_one = r'\\$\\s*\\d+\\.?\\d*\\s*[mb]illi?on'\n",
    "form_two = r'\\$\\s*\\d{1,3}(?:[\\.,]\\d{3})+(?!\\s[mb]illion)'"
   ]
  },
  {
   "cell_type": "code",
   "execution_count": 45,
   "metadata": {},
   "outputs": [
    {
     "data": {
      "text/plain": [
       "136                         Unknown\n",
       "204     60 million Norwegian Kroner\n",
       "478                         Unknown\n",
       "973             $34 [3] [4] million\n",
       "1126               $120 [4] million\n",
       "1226                        Unknown\n",
       "1278                            HBO\n",
       "1374                     £6,000,000\n",
       "1397                     13 million\n",
       "1480                   £2.8 million\n",
       "1734                   CAD2,000,000\n",
       "1913     PHP 85 million (estimated)\n",
       "1948                    102,888,900\n",
       "1953                   3,500,000 DM\n",
       "1973                     ₤2,300,874\n",
       "2281                     $14 milion\n",
       "2451                     ₤6,350,000\n",
       "3144                   € 40 million\n",
       "3360               $150 [6] million\n",
       "3418                        $218.32\n",
       "3802                   £4.2 million\n",
       "3906                            N/A\n",
       "3959                    760,000 USD\n",
       "4470                       19 crore\n",
       "4641                    £17 million\n",
       "5034              $$200 [4] million\n",
       "5055           $155 [2] [3] million\n",
       "5419                $40 [4] million\n",
       "5424                            N/A\n",
       "5447                     £4 million\n",
       "5671                    €14 million\n",
       "5687                   $ dead link]\n",
       "6385               £ 12 million [3]\n",
       "6593                     £3 million\n",
       "6821                  £12.9 million\n",
       "6843                      3.5 crore\n",
       "6895                        919,000\n",
       "7070                   €4.3 million\n",
       "Name: Budget, dtype: object"
      ]
     },
     "execution_count": 45,
     "metadata": {},
     "output_type": "execute_result"
    }
   ],
   "source": [
    "#38 not matching => notice citation ref [#]\n",
    "matches_form_one = budget.str.contains(form_one, flags=re.IGNORECASE, na=False)\n",
    "\n",
    "matches_form_two = budget.str.contains(form_two, flags=re.IGNORECASE, na=False)\n",
    "\n",
    "budget[~matches_form_one & ~matches_form_two]\n"
   ]
  },
  {
   "cell_type": "code",
   "execution_count": 46,
   "metadata": {},
   "outputs": [
    {
     "name": "stderr",
     "output_type": "stream",
     "text": [
      "C:\\Users\\sarah\\anaconda3\\envs\\PythonData\\lib\\site-packages\\ipykernel_launcher.py:3: FutureWarning: The default value of regex will change from True to False in a future version.\n",
      "  This is separate from the ipykernel package so we can avoid doing imports until\n"
     ]
    },
    {
     "data": {
      "text/plain": [
       "38"
      ]
     },
     "execution_count": 46,
     "metadata": {},
     "output_type": "execute_result"
    }
   ],
   "source": [
    "#remove citation refs\n",
    "\n",
    "budget = budget.str.replace(r'\\[\\d+\\]\\s*', '')\n",
    "budget[~matches_form_one & ~matches_form_two].count()"
   ]
  },
  {
   "cell_type": "code",
   "execution_count": 47,
   "metadata": {},
   "outputs": [],
   "source": [
    "#reuse parse dollars fxn\n",
    "\n",
    "wiki_movies_df[\"budget\"] = budget.str.extract(f\"({form_one}|{form_two})\", flags=re.IGNORECASE)[0].apply(parse_dollars)"
   ]
  },
  {
   "cell_type": "code",
   "execution_count": 48,
   "metadata": {},
   "outputs": [],
   "source": [
    "#drop pre-cleaned data \n",
    "wiki_movies_df.drop(\"Budget\", axis = 1, inplace=True)"
   ]
  },
  {
   "cell_type": "code",
   "execution_count": 49,
   "metadata": {},
   "outputs": [],
   "source": [
    "#parse release date \n",
    "\n",
    "#convert list to strings(same lambda as above)\n",
    "\n",
    "release_date = wiki_movies_df[\"Release date\"].dropna().apply(lambda x: \" \".join(x) if type(x) == list else x)\n"
   ]
  },
  {
   "cell_type": "code",
   "execution_count": 50,
   "metadata": {},
   "outputs": [],
   "source": [
    "#forms\n",
    "    # full month name, on or two digit day, four dig year (January 1, 2000)\n",
    "    # four dig year, two dig month, two dig dat, with any seperator (2000-01-01)\n",
    "    # full month, four dig year (January 2000)\n",
    "    # four dig year (2000)\n",
    "\n",
    "date_form_one = r'(?:January|February|March|April|May|June|July|August|September|October|November|December)\\s[123]?\\d,\\s\\d{4}'\n",
    "date_form_two = r'\\d{4}.[01]\\d.[0123]\\d'\n",
    "date_form_three = r'(?:January|February|March|April|May|June|July|August|September|October|November|December)\\s\\d{4}'\n",
    "date_form_four = r'\\d{4}'\n",
    "\n"
   ]
  },
  {
   "cell_type": "code",
   "execution_count": 51,
   "metadata": {},
   "outputs": [],
   "source": [
    "#extract to df with datetime \n",
    "wiki_movies_df[\"release date\"] = pd.to_datetime(release_date.str.extract(f\"({date_form_one}|{date_form_two}|{date_form_three}|{date_form_four})\", flags=re.IGNORECASE)[0], infer_datetime_format=True)"
   ]
  },
  {
   "cell_type": "code",
   "execution_count": 52,
   "metadata": {},
   "outputs": [],
   "source": [
    "#drop pre-cleaned data \n",
    "wiki_movies_df.drop(\"Release date\", axis = 1, inplace=True)"
   ]
  },
  {
   "cell_type": "code",
   "execution_count": 53,
   "metadata": {},
   "outputs": [],
   "source": [
    "#parse running time\n",
    "\n",
    "#variable hold non null values and list to strings\n",
    "\n",
    "running_time = wiki_movies_df[\"Running time\"].dropna().apply(lambda x: \" \".join(x) if type(x) == list else x)"
   ]
  },
  {
   "cell_type": "code",
   "execution_count": 54,
   "metadata": {},
   "outputs": [
    {
     "data": {
      "text/plain": [
       "6528"
      ]
     },
     "execution_count": 54,
     "metadata": {},
     "output_type": "execute_result"
    }
   ],
   "source": [
    "#check how many follow form ### minutes\n",
    "\n",
    "#count 6528\n",
    "\n",
    "running_time.str.contains(r\"^\\d*\\s*minutes$\", flags = re.IGNORECASE, na = False).sum()"
   ]
  },
  {
   "cell_type": "code",
   "execution_count": 55,
   "metadata": {},
   "outputs": [
    {
     "data": {
      "text/plain": [
       "9                                                 102 min\n",
       "26                                                 93 min\n",
       "28                                                32 min.\n",
       "34                                                101 min\n",
       "35                                                 97 min\n",
       "                              ...                        \n",
       "6500       114 minutes [1] 120 minutes (extended edition)\n",
       "6643                                             104 mins\n",
       "6709    90 minutes (theatrical) [1] 91 minutes (unrate...\n",
       "7057    108 minutes (Original cut) 98 minutes (UK cut)...\n",
       "7075                Variable; 90 minutes for default path\n",
       "Name: Running time, Length: 366, dtype: object"
      ]
     },
     "execution_count": 55,
     "metadata": {},
     "output_type": "execute_result"
    }
   ],
   "source": [
    "#check do not follow form \n",
    "running_time[running_time.str.contains(r\"^\\d*\\s*minutes$\", flags = re.IGNORECASE, na = False) != True]"
   ]
  },
  {
   "cell_type": "code",
   "execution_count": 56,
   "metadata": {},
   "outputs": [
    {
     "name": "stderr",
     "output_type": "stream",
     "text": [
      "C:\\Users\\sarah\\anaconda3\\envs\\PythonData\\lib\\site-packages\\ipykernel_launcher.py:4: UserWarning: This pattern has match groups. To actually get the groups, use str.extract.\n",
      "  after removing the cwd from sys.path.\n"
     ]
    },
    {
     "data": {
      "text/plain": [
       "6888"
      ]
     },
     "execution_count": 56,
     "metadata": {},
     "output_type": "execute_result"
    }
   ],
   "source": [
    "#more general: include min abbrev\n",
    "#6888 follow \n",
    "\n",
    "running_time.str.contains(r\"(\\d+)\\s*m\", flags = re.IGNORECASE, na = False).sum()"
   ]
  },
  {
   "cell_type": "code",
   "execution_count": 57,
   "metadata": {},
   "outputs": [
    {
     "name": "stderr",
     "output_type": "stream",
     "text": [
      "C:\\Users\\sarah\\anaconda3\\envs\\PythonData\\lib\\site-packages\\ipykernel_launcher.py:3: UserWarning: This pattern has match groups. To actually get the groups, use str.extract.\n",
      "  This is separate from the ipykernel package so we can avoid doing imports until\n"
     ]
    },
    {
     "data": {
      "text/plain": [
       "5"
      ]
     },
     "execution_count": 57,
     "metadata": {},
     "output_type": "execute_result"
    }
   ],
   "source": [
    "#make regex more flexible for hour + minute forms - additional form \n",
    "\n",
    "running_time.str.contains(r\"(\\d+)\\s*ho?u?r?s?\\s*(\\d*)\", flags = re.IGNORECASE, na = False).sum()"
   ]
  },
  {
   "cell_type": "code",
   "execution_count": 58,
   "metadata": {},
   "outputs": [],
   "source": [
    "running_time_extract = running_time.str.extract(r'(\\d+)\\s*ho?u?r?s?\\s*(\\d*)|(\\d+)\\s*m')"
   ]
  },
  {
   "cell_type": "code",
   "execution_count": 59,
   "metadata": {},
   "outputs": [],
   "source": [
    "running_time_extract = running_time_extract.apply(lambda col: pd.to_numeric(col, errors='coerce')).fillna(0)\n"
   ]
  },
  {
   "cell_type": "code",
   "execution_count": 60,
   "metadata": {},
   "outputs": [
    {
     "data": {
      "text/html": [
       "<div>\n",
       "<style scoped>\n",
       "    .dataframe tbody tr th:only-of-type {\n",
       "        vertical-align: middle;\n",
       "    }\n",
       "\n",
       "    .dataframe tbody tr th {\n",
       "        vertical-align: top;\n",
       "    }\n",
       "\n",
       "    .dataframe thead th {\n",
       "        text-align: right;\n",
       "    }\n",
       "</style>\n",
       "<table border=\"1\" class=\"dataframe\">\n",
       "  <thead>\n",
       "    <tr style=\"text-align: right;\">\n",
       "      <th></th>\n",
       "      <th>0</th>\n",
       "      <th>1</th>\n",
       "      <th>2</th>\n",
       "    </tr>\n",
       "  </thead>\n",
       "  <tbody>\n",
       "    <tr>\n",
       "      <th>0</th>\n",
       "      <td>0.0</td>\n",
       "      <td>0.0</td>\n",
       "      <td>102.0</td>\n",
       "    </tr>\n",
       "    <tr>\n",
       "      <th>1</th>\n",
       "      <td>0.0</td>\n",
       "      <td>0.0</td>\n",
       "      <td>114.0</td>\n",
       "    </tr>\n",
       "    <tr>\n",
       "      <th>2</th>\n",
       "      <td>0.0</td>\n",
       "      <td>0.0</td>\n",
       "      <td>113.0</td>\n",
       "    </tr>\n",
       "    <tr>\n",
       "      <th>3</th>\n",
       "      <td>0.0</td>\n",
       "      <td>0.0</td>\n",
       "      <td>106.0</td>\n",
       "    </tr>\n",
       "    <tr>\n",
       "      <th>4</th>\n",
       "      <td>0.0</td>\n",
       "      <td>0.0</td>\n",
       "      <td>95.0</td>\n",
       "    </tr>\n",
       "    <tr>\n",
       "      <th>...</th>\n",
       "      <td>...</td>\n",
       "      <td>...</td>\n",
       "      <td>...</td>\n",
       "    </tr>\n",
       "    <tr>\n",
       "      <th>7071</th>\n",
       "      <td>0.0</td>\n",
       "      <td>0.0</td>\n",
       "      <td>90.0</td>\n",
       "    </tr>\n",
       "    <tr>\n",
       "      <th>7072</th>\n",
       "      <td>0.0</td>\n",
       "      <td>0.0</td>\n",
       "      <td>132.0</td>\n",
       "    </tr>\n",
       "    <tr>\n",
       "      <th>7073</th>\n",
       "      <td>0.0</td>\n",
       "      <td>0.0</td>\n",
       "      <td>120.0</td>\n",
       "    </tr>\n",
       "    <tr>\n",
       "      <th>7074</th>\n",
       "      <td>0.0</td>\n",
       "      <td>0.0</td>\n",
       "      <td>123.0</td>\n",
       "    </tr>\n",
       "    <tr>\n",
       "      <th>7075</th>\n",
       "      <td>0.0</td>\n",
       "      <td>0.0</td>\n",
       "      <td>90.0</td>\n",
       "    </tr>\n",
       "  </tbody>\n",
       "</table>\n",
       "<p>6894 rows × 3 columns</p>\n",
       "</div>"
      ],
      "text/plain": [
       "        0    1      2\n",
       "0     0.0  0.0  102.0\n",
       "1     0.0  0.0  114.0\n",
       "2     0.0  0.0  113.0\n",
       "3     0.0  0.0  106.0\n",
       "4     0.0  0.0   95.0\n",
       "...   ...  ...    ...\n",
       "7071  0.0  0.0   90.0\n",
       "7072  0.0  0.0  132.0\n",
       "7073  0.0  0.0  120.0\n",
       "7074  0.0  0.0  123.0\n",
       "7075  0.0  0.0   90.0\n",
       "\n",
       "[6894 rows x 3 columns]"
      ]
     },
     "execution_count": 60,
     "metadata": {},
     "output_type": "execute_result"
    }
   ],
   "source": [
    "#rows = capture groups (0 = hrs 1= mins, 2 = form two mins)\n",
    "running_time_extract"
   ]
  },
  {
   "cell_type": "code",
   "execution_count": 61,
   "metadata": {},
   "outputs": [],
   "source": [
    "#convert capture groups from hrmin form into minutes and save to df \n",
    "\n",
    "wiki_movies_df['running_time'] = running_time_extract.apply(lambda row: row[0]*60 + row[1] if row[2] == 0 else row[2], axis=1)\n"
   ]
  },
  {
   "cell_type": "code",
   "execution_count": 62,
   "metadata": {},
   "outputs": [],
   "source": [
    "#drop pre-cleaned data\n",
    "wiki_movies_df.drop('Running time', axis=1, inplace=True)"
   ]
  },
  {
   "cell_type": "markdown",
   "metadata": {},
   "source": [
    "8.3.12\n",
    "Clean the Kaggle Data"
   ]
  },
  {
   "cell_type": "code",
   "execution_count": 63,
   "metadata": {},
   "outputs": [
    {
     "data": {
      "text/plain": [
       "adult                     object\n",
       "belongs_to_collection     object\n",
       "budget                    object\n",
       "genres                    object\n",
       "homepage                  object\n",
       "id                        object\n",
       "imdb_id                   object\n",
       "original_language         object\n",
       "original_title            object\n",
       "overview                  object\n",
       "popularity                object\n",
       "poster_path               object\n",
       "production_companies      object\n",
       "production_countries      object\n",
       "release_date              object\n",
       "revenue                  float64\n",
       "runtime                  float64\n",
       "spoken_languages          object\n",
       "status                    object\n",
       "tagline                   object\n",
       "title                     object\n",
       "video                     object\n",
       "vote_average             float64\n",
       "vote_count               float64\n",
       "dtype: object"
      ]
     },
     "execution_count": 63,
     "metadata": {},
     "output_type": "execute_result"
    }
   ],
   "source": [
    "kaggle_metadata.dtypes"
   ]
  },
  {
   "cell_type": "code",
   "execution_count": 64,
   "metadata": {},
   "outputs": [
    {
     "data": {
      "text/plain": [
       "False                                                                                                                             45454\n",
       "True                                                                                                                                  9\n",
       " - Written by Ørnås                                                                                                                   1\n",
       " Rune Balot goes to a casino connected to the October corporation to try to wrap up her case once and for all.                        1\n",
       " Avalanche Sharks tells the story of a bikini contest that turns into a horrifying affair when it is hit by a shark avalanche.        1\n",
       "Name: adult, dtype: int64"
      ]
     },
     "execution_count": 64,
     "metadata": {},
     "output_type": "execute_result"
    }
   ],
   "source": [
    "#convert d types - adult and video to boolean\n",
    "\n",
    "#adult \n",
    "#checked - bad data found \n",
    "\n",
    "kaggle_metadata[\"adult\"].value_counts()\n"
   ]
  },
  {
   "cell_type": "code",
   "execution_count": 65,
   "metadata": {},
   "outputs": [
    {
     "data": {
      "text/html": [
       "<div>\n",
       "<style scoped>\n",
       "    .dataframe tbody tr th:only-of-type {\n",
       "        vertical-align: middle;\n",
       "    }\n",
       "\n",
       "    .dataframe tbody tr th {\n",
       "        vertical-align: top;\n",
       "    }\n",
       "\n",
       "    .dataframe thead th {\n",
       "        text-align: right;\n",
       "    }\n",
       "</style>\n",
       "<table border=\"1\" class=\"dataframe\">\n",
       "  <thead>\n",
       "    <tr style=\"text-align: right;\">\n",
       "      <th></th>\n",
       "      <th>adult</th>\n",
       "      <th>belongs_to_collection</th>\n",
       "      <th>budget</th>\n",
       "      <th>genres</th>\n",
       "      <th>homepage</th>\n",
       "      <th>id</th>\n",
       "      <th>imdb_id</th>\n",
       "      <th>original_language</th>\n",
       "      <th>original_title</th>\n",
       "      <th>overview</th>\n",
       "      <th>...</th>\n",
       "      <th>release_date</th>\n",
       "      <th>revenue</th>\n",
       "      <th>runtime</th>\n",
       "      <th>spoken_languages</th>\n",
       "      <th>status</th>\n",
       "      <th>tagline</th>\n",
       "      <th>title</th>\n",
       "      <th>video</th>\n",
       "      <th>vote_average</th>\n",
       "      <th>vote_count</th>\n",
       "    </tr>\n",
       "  </thead>\n",
       "  <tbody>\n",
       "    <tr>\n",
       "      <th>19730</th>\n",
       "      <td>- Written by Ørnås</td>\n",
       "      <td>0.065736</td>\n",
       "      <td>/ff9qCepilowshEtG2GYWwzt2bs4.jpg</td>\n",
       "      <td>[{'name': 'Carousel Productions', 'id': 11176}...</td>\n",
       "      <td>[{'iso_3166_1': 'CA', 'name': 'Canada'}, {'iso...</td>\n",
       "      <td>1997-08-20</td>\n",
       "      <td>0</td>\n",
       "      <td>104.0</td>\n",
       "      <td>[{'iso_639_1': 'en', 'name': 'English'}]</td>\n",
       "      <td>Released</td>\n",
       "      <td>...</td>\n",
       "      <td>1</td>\n",
       "      <td>NaN</td>\n",
       "      <td>NaN</td>\n",
       "      <td>NaN</td>\n",
       "      <td>NaN</td>\n",
       "      <td>NaN</td>\n",
       "      <td>NaN</td>\n",
       "      <td>NaN</td>\n",
       "      <td>NaN</td>\n",
       "      <td>NaN</td>\n",
       "    </tr>\n",
       "    <tr>\n",
       "      <th>29503</th>\n",
       "      <td>Rune Balot goes to a casino connected to the ...</td>\n",
       "      <td>1.931659</td>\n",
       "      <td>/zV8bHuSL6WXoD6FWogP9j4x80bL.jpg</td>\n",
       "      <td>[{'name': 'Aniplex', 'id': 2883}, {'name': 'Go...</td>\n",
       "      <td>[{'iso_3166_1': 'US', 'name': 'United States o...</td>\n",
       "      <td>2012-09-29</td>\n",
       "      <td>0</td>\n",
       "      <td>68.0</td>\n",
       "      <td>[{'iso_639_1': 'ja', 'name': '日本語'}]</td>\n",
       "      <td>Released</td>\n",
       "      <td>...</td>\n",
       "      <td>12</td>\n",
       "      <td>NaN</td>\n",
       "      <td>NaN</td>\n",
       "      <td>NaN</td>\n",
       "      <td>NaN</td>\n",
       "      <td>NaN</td>\n",
       "      <td>NaN</td>\n",
       "      <td>NaN</td>\n",
       "      <td>NaN</td>\n",
       "      <td>NaN</td>\n",
       "    </tr>\n",
       "    <tr>\n",
       "      <th>35587</th>\n",
       "      <td>Avalanche Sharks tells the story of a bikini ...</td>\n",
       "      <td>2.185485</td>\n",
       "      <td>/zaSf5OG7V8X8gqFvly88zDdRm46.jpg</td>\n",
       "      <td>[{'name': 'Odyssey Media', 'id': 17161}, {'nam...</td>\n",
       "      <td>[{'iso_3166_1': 'CA', 'name': 'Canada'}]</td>\n",
       "      <td>2014-01-01</td>\n",
       "      <td>0</td>\n",
       "      <td>82.0</td>\n",
       "      <td>[{'iso_639_1': 'en', 'name': 'English'}]</td>\n",
       "      <td>Released</td>\n",
       "      <td>...</td>\n",
       "      <td>22</td>\n",
       "      <td>NaN</td>\n",
       "      <td>NaN</td>\n",
       "      <td>NaN</td>\n",
       "      <td>NaN</td>\n",
       "      <td>NaN</td>\n",
       "      <td>NaN</td>\n",
       "      <td>NaN</td>\n",
       "      <td>NaN</td>\n",
       "      <td>NaN</td>\n",
       "    </tr>\n",
       "  </tbody>\n",
       "</table>\n",
       "<p>3 rows × 24 columns</p>\n",
       "</div>"
      ],
      "text/plain": [
       "                                                   adult  \\\n",
       "19730                                 - Written by Ørnås   \n",
       "29503   Rune Balot goes to a casino connected to the ...   \n",
       "35587   Avalanche Sharks tells the story of a bikini ...   \n",
       "\n",
       "      belongs_to_collection                            budget  \\\n",
       "19730              0.065736  /ff9qCepilowshEtG2GYWwzt2bs4.jpg   \n",
       "29503              1.931659  /zV8bHuSL6WXoD6FWogP9j4x80bL.jpg   \n",
       "35587              2.185485  /zaSf5OG7V8X8gqFvly88zDdRm46.jpg   \n",
       "\n",
       "                                                  genres  \\\n",
       "19730  [{'name': 'Carousel Productions', 'id': 11176}...   \n",
       "29503  [{'name': 'Aniplex', 'id': 2883}, {'name': 'Go...   \n",
       "35587  [{'name': 'Odyssey Media', 'id': 17161}, {'nam...   \n",
       "\n",
       "                                                homepage          id imdb_id  \\\n",
       "19730  [{'iso_3166_1': 'CA', 'name': 'Canada'}, {'iso...  1997-08-20       0   \n",
       "29503  [{'iso_3166_1': 'US', 'name': 'United States o...  2012-09-29       0   \n",
       "35587           [{'iso_3166_1': 'CA', 'name': 'Canada'}]  2014-01-01       0   \n",
       "\n",
       "      original_language                            original_title  overview  \\\n",
       "19730             104.0  [{'iso_639_1': 'en', 'name': 'English'}]  Released   \n",
       "29503              68.0      [{'iso_639_1': 'ja', 'name': '日本語'}]  Released   \n",
       "35587              82.0  [{'iso_639_1': 'en', 'name': 'English'}]  Released   \n",
       "\n",
       "       ... release_date revenue runtime spoken_languages status  tagline  \\\n",
       "19730  ...            1     NaN     NaN              NaN    NaN      NaN   \n",
       "29503  ...           12     NaN     NaN              NaN    NaN      NaN   \n",
       "35587  ...           22     NaN     NaN              NaN    NaN      NaN   \n",
       "\n",
       "       title video vote_average vote_count  \n",
       "19730    NaN   NaN          NaN        NaN  \n",
       "29503    NaN   NaN          NaN        NaN  \n",
       "35587    NaN   NaN          NaN        NaN  \n",
       "\n",
       "[3 rows x 24 columns]"
      ]
     },
     "execution_count": 65,
     "metadata": {},
     "output_type": "execute_result"
    }
   ],
   "source": [
    "#missing imdb id so need to drop \n",
    "\n",
    "kaggle_metadata[~kaggle_metadata['adult'].isin(['True','False'])]\n"
   ]
  },
  {
   "cell_type": "code",
   "execution_count": 66,
   "metadata": {},
   "outputs": [],
   "source": [
    "#drop all except adult == False then drop column\n",
    "\n",
    "kaggle_metadata = kaggle_metadata[kaggle_metadata[\"adult\"]== \"False\"].drop(\"adult\", axis = \"columns\")"
   ]
  },
  {
   "cell_type": "code",
   "execution_count": 67,
   "metadata": {},
   "outputs": [
    {
     "data": {
      "text/plain": [
       "False    45358\n",
       "True        93\n",
       "Name: video, dtype: int64"
      ]
     },
     "execution_count": 67,
     "metadata": {},
     "output_type": "execute_result"
    }
   ],
   "source": [
    "#video - clean all boolean \n",
    "\n",
    "kaggle_metadata[\"video\"].value_counts()"
   ]
  },
  {
   "cell_type": "code",
   "execution_count": 68,
   "metadata": {},
   "outputs": [
    {
     "data": {
      "text/plain": [
       "0        False\n",
       "1        False\n",
       "2        False\n",
       "3        False\n",
       "4        False\n",
       "         ...  \n",
       "45461    False\n",
       "45462    False\n",
       "45463    False\n",
       "45464    False\n",
       "45465    False\n",
       "Name: video, Length: 45454, dtype: bool"
      ]
     },
     "execution_count": 68,
     "metadata": {},
     "output_type": "execute_result"
    }
   ],
   "source": [
    "#create boolean column \n",
    "kaggle_metadata[\"video\"] == \"True\""
   ]
  },
  {
   "cell_type": "code",
   "execution_count": 69,
   "metadata": {},
   "outputs": [
    {
     "data": {
      "text/plain": [
       "0        False\n",
       "1        False\n",
       "2        False\n",
       "3        False\n",
       "4        False\n",
       "         ...  \n",
       "45461    False\n",
       "45462    False\n",
       "45463    False\n",
       "45464    False\n",
       "45465    False\n",
       "Name: video, Length: 45454, dtype: bool"
      ]
     },
     "execution_count": 69,
     "metadata": {},
     "output_type": "execute_result"
    }
   ],
   "source": [
    "#assign back to video \n",
    "\n",
    "kaggle_metadata[\"video\"] - kaggle_metadata[\"video\"] == \"True\""
   ]
  },
  {
   "cell_type": "code",
   "execution_count": 70,
   "metadata": {},
   "outputs": [],
   "source": [
    "#numeric columns use to_numeric() method pd\n",
    "\n",
    "kaggle_metadata['budget'] = kaggle_metadata['budget'].astype(int)\n",
    "kaggle_metadata['id'] = pd.to_numeric(kaggle_metadata['id'], errors='raise')\n",
    "kaggle_metadata['popularity'] = pd.to_numeric(kaggle_metadata['popularity'], errors='raise')"
   ]
  },
  {
   "cell_type": "code",
   "execution_count": 71,
   "metadata": {},
   "outputs": [],
   "source": [
    "#release date to datetime pd \n",
    "kaggle_metadata['release_date'] = pd.to_datetime(kaggle_metadata['release_date'])\n"
   ]
  },
  {
   "cell_type": "code",
   "execution_count": 73,
   "metadata": {},
   "outputs": [
    {
     "name": "stdout",
     "output_type": "stream",
     "text": [
      "<class 'pandas.core.frame.DataFrame'>\n",
      "RangeIndex: 26024289 entries, 0 to 26024288\n",
      "Data columns (total 4 columns):\n",
      " #   Column     Non-Null Count     Dtype  \n",
      "---  ------     --------------     -----  \n",
      " 0   userId     26024289 non-null  int64  \n",
      " 1   movieId    26024289 non-null  int64  \n",
      " 2   rating     26024289 non-null  float64\n",
      " 3   timestamp  26024289 non-null  int64  \n",
      "dtypes: float64(1), int64(3)\n",
      "memory usage: 794.2 MB\n"
     ]
    },
    {
     "name": "stderr",
     "output_type": "stream",
     "text": [
      "C:\\Users\\sarah\\anaconda3\\envs\\PythonData\\lib\\site-packages\\ipykernel_launcher.py:2: FutureWarning: null_counts is deprecated. Use show_counts instead\n",
      "  \n"
     ]
    }
   ],
   "source": [
    "#reasonability checks on ratings data \n",
    "ratings.info(null_counts=True)"
   ]
  },
  {
   "cell_type": "code",
   "execution_count": 74,
   "metadata": {},
   "outputs": [
    {
     "data": {
      "text/plain": [
       "0          2015-03-09 22:52:09\n",
       "1          2015-03-09 23:07:15\n",
       "2          2015-03-09 22:52:03\n",
       "3          2015-03-09 22:52:26\n",
       "4          2015-03-09 22:52:36\n",
       "                   ...        \n",
       "26024284   2009-10-31 23:26:04\n",
       "26024285   2009-10-31 23:33:52\n",
       "26024286   2009-10-31 23:29:24\n",
       "26024287   2009-11-01 00:06:30\n",
       "26024288   2009-10-31 23:30:58\n",
       "Name: timestamp, Length: 26024289, dtype: datetime64[ns]"
      ]
     },
     "execution_count": 74,
     "metadata": {},
     "output_type": "execute_result"
    }
   ],
   "source": [
    "#time format\n",
    "pd.to_datetime(ratings['timestamp'], unit='s')"
   ]
  },
  {
   "cell_type": "code",
   "execution_count": 75,
   "metadata": {},
   "outputs": [],
   "source": [
    "#assign to column\n",
    "ratings['timestamp'] = pd.to_datetime(ratings['timestamp'], unit='s')"
   ]
  },
  {
   "cell_type": "code",
   "execution_count": 77,
   "metadata": {},
   "outputs": [
    {
     "data": {
      "text/plain": [
       "count          26,024,289.00\n",
       "mean                    3.53\n",
       "std                     1.07\n",
       "min                     0.50\n",
       "25%                     3.00\n",
       "50%                     3.50\n",
       "75%                     4.00\n",
       "max                     5.00\n",
       "Name: rating, dtype: float64"
      ]
     },
     "execution_count": 77,
     "metadata": {},
     "output_type": "execute_result"
    },
    {
     "data": {
      "image/png": "[encoded data removed]",
      "text/plain": [
       "<Figure size 432x288 with 1 Axes>"
      ]
     },
     "metadata": {
      "needs_background": "light"
     },
     "output_type": "display_data"
    }
   ],
   "source": [
    "#check ratings w histogram\n",
    "\n",
    "pd.options.display.float_format = '{:20,.2f}'.format\n",
    "\n",
    "ratings['rating'].plot(kind='hist')\n",
    "\n",
    "ratings['rating'].describe()\n"
   ]
  },
  {
   "cell_type": "code",
   "execution_count": null,
   "metadata": {},
   "outputs": [],
   "source": []
  }
 ],
 "metadata": {
  "kernelspec": {
   "display_name": "PythonData",
   "language": "python",
   "name": "pythondata"
  },
  "language_info": {
   "codemirror_mode": {
    "name": "ipython",
    "version": 3
   },
   "file_extension": ".py",
   "mimetype": "text/x-python",
   "name": "python",
   "nbconvert_exporter": "python",
   "pygments_lexer": "ipython3",
   "version": "3.7.11"
  },
  "orig_nbformat": 4
 },
 "nbformat": 4,
 "nbformat_minor": 2
}
